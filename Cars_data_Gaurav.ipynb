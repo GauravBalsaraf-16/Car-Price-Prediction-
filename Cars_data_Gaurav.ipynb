{
 "cells": [
  {
   "cell_type": "code",
   "execution_count": 1,
   "id": "4e65c0b1-6bc4-4c68-a35b-814a40833d89",
   "metadata": {},
   "outputs": [],
   "source": [
    "import pandas as pd \n",
    "import numpy as np\n",
    "import matplotlib.pyplot as plt\n",
    "import seaborn as sns \n",
    "import matplotlib as mat\n",
    "from tabulate import tabulate\n",
    "import warnings \n",
    "warnings.filterwarnings(\"ignore\")"
   ]
  },
  {
   "cell_type": "code",
   "execution_count": 2,
   "id": "088e2e9d-f44c-4b57-8ad4-98a47a27346d",
   "metadata": {},
   "outputs": [],
   "source": [
    "df = pd.read_csv(\"car details v4.csv\")"
   ]
  },
  {
   "cell_type": "code",
   "execution_count": 3,
   "id": "1573dac4-8205-47b6-ab7c-ddb84832c85a",
   "metadata": {},
   "outputs": [
    {
     "data": {
      "text/html": [
       "<div>\n",
       "<style scoped>\n",
       "    .dataframe tbody tr th:only-of-type {\n",
       "        vertical-align: middle;\n",
       "    }\n",
       "\n",
       "    .dataframe tbody tr th {\n",
       "        vertical-align: top;\n",
       "    }\n",
       "\n",
       "    .dataframe thead th {\n",
       "        text-align: right;\n",
       "    }\n",
       "</style>\n",
       "<table border=\"1\" class=\"dataframe\">\n",
       "  <thead>\n",
       "    <tr style=\"text-align: right;\">\n",
       "      <th></th>\n",
       "      <th>Make</th>\n",
       "      <th>Model</th>\n",
       "      <th>Price</th>\n",
       "      <th>Year</th>\n",
       "      <th>Kilometer</th>\n",
       "      <th>Fuel Type</th>\n",
       "      <th>Transmission</th>\n",
       "      <th>Location</th>\n",
       "      <th>Color</th>\n",
       "      <th>Owner</th>\n",
       "      <th>Seller Type</th>\n",
       "      <th>Engine</th>\n",
       "      <th>Max Power</th>\n",
       "      <th>Max Torque</th>\n",
       "      <th>Drivetrain</th>\n",
       "      <th>Length</th>\n",
       "      <th>Width</th>\n",
       "      <th>Height</th>\n",
       "      <th>Seating Capacity</th>\n",
       "      <th>Fuel Tank Capacity</th>\n",
       "    </tr>\n",
       "  </thead>\n",
       "  <tbody>\n",
       "    <tr>\n",
       "      <th>0</th>\n",
       "      <td>Honda</td>\n",
       "      <td>Amaze 1.2 VX i-VTEC</td>\n",
       "      <td>505000</td>\n",
       "      <td>2017</td>\n",
       "      <td>87150</td>\n",
       "      <td>Petrol</td>\n",
       "      <td>Manual</td>\n",
       "      <td>Pune</td>\n",
       "      <td>Grey</td>\n",
       "      <td>First</td>\n",
       "      <td>Corporate</td>\n",
       "      <td>1198 cc</td>\n",
       "      <td>87 bhp @ 6000 rpm</td>\n",
       "      <td>109 Nm @ 4500 rpm</td>\n",
       "      <td>FWD</td>\n",
       "      <td>3990.0</td>\n",
       "      <td>1680.0</td>\n",
       "      <td>1505.0</td>\n",
       "      <td>5.0</td>\n",
       "      <td>35.0</td>\n",
       "    </tr>\n",
       "    <tr>\n",
       "      <th>1</th>\n",
       "      <td>Maruti Suzuki</td>\n",
       "      <td>Swift DZire VDI</td>\n",
       "      <td>450000</td>\n",
       "      <td>2014</td>\n",
       "      <td>75000</td>\n",
       "      <td>Diesel</td>\n",
       "      <td>Manual</td>\n",
       "      <td>Ludhiana</td>\n",
       "      <td>White</td>\n",
       "      <td>Second</td>\n",
       "      <td>Individual</td>\n",
       "      <td>1248 cc</td>\n",
       "      <td>74 bhp @ 4000 rpm</td>\n",
       "      <td>190 Nm @ 2000 rpm</td>\n",
       "      <td>FWD</td>\n",
       "      <td>3995.0</td>\n",
       "      <td>1695.0</td>\n",
       "      <td>1555.0</td>\n",
       "      <td>5.0</td>\n",
       "      <td>42.0</td>\n",
       "    </tr>\n",
       "    <tr>\n",
       "      <th>2</th>\n",
       "      <td>Hyundai</td>\n",
       "      <td>i10 Magna 1.2 Kappa2</td>\n",
       "      <td>220000</td>\n",
       "      <td>2011</td>\n",
       "      <td>67000</td>\n",
       "      <td>Petrol</td>\n",
       "      <td>Manual</td>\n",
       "      <td>Lucknow</td>\n",
       "      <td>Maroon</td>\n",
       "      <td>First</td>\n",
       "      <td>Individual</td>\n",
       "      <td>1197 cc</td>\n",
       "      <td>79 bhp @ 6000 rpm</td>\n",
       "      <td>112.7619 Nm @ 4000 rpm</td>\n",
       "      <td>FWD</td>\n",
       "      <td>3585.0</td>\n",
       "      <td>1595.0</td>\n",
       "      <td>1550.0</td>\n",
       "      <td>5.0</td>\n",
       "      <td>35.0</td>\n",
       "    </tr>\n",
       "    <tr>\n",
       "      <th>3</th>\n",
       "      <td>Toyota</td>\n",
       "      <td>Glanza G</td>\n",
       "      <td>799000</td>\n",
       "      <td>2019</td>\n",
       "      <td>37500</td>\n",
       "      <td>Petrol</td>\n",
       "      <td>Manual</td>\n",
       "      <td>Mangalore</td>\n",
       "      <td>Red</td>\n",
       "      <td>First</td>\n",
       "      <td>Individual</td>\n",
       "      <td>1197 cc</td>\n",
       "      <td>82 bhp @ 6000 rpm</td>\n",
       "      <td>113 Nm @ 4200 rpm</td>\n",
       "      <td>FWD</td>\n",
       "      <td>3995.0</td>\n",
       "      <td>1745.0</td>\n",
       "      <td>1510.0</td>\n",
       "      <td>5.0</td>\n",
       "      <td>37.0</td>\n",
       "    </tr>\n",
       "    <tr>\n",
       "      <th>4</th>\n",
       "      <td>Toyota</td>\n",
       "      <td>Innova 2.4 VX 7 STR [2016-2020]</td>\n",
       "      <td>1950000</td>\n",
       "      <td>2018</td>\n",
       "      <td>69000</td>\n",
       "      <td>Diesel</td>\n",
       "      <td>Manual</td>\n",
       "      <td>Mumbai</td>\n",
       "      <td>Grey</td>\n",
       "      <td>First</td>\n",
       "      <td>Individual</td>\n",
       "      <td>2393 cc</td>\n",
       "      <td>148 bhp @ 3400 rpm</td>\n",
       "      <td>343 Nm @ 1400 rpm</td>\n",
       "      <td>RWD</td>\n",
       "      <td>4735.0</td>\n",
       "      <td>1830.0</td>\n",
       "      <td>1795.0</td>\n",
       "      <td>7.0</td>\n",
       "      <td>55.0</td>\n",
       "    </tr>\n",
       "  </tbody>\n",
       "</table>\n",
       "</div>"
      ],
      "text/plain": [
       "            Make                            Model    Price  Year  Kilometer  \\\n",
       "0          Honda              Amaze 1.2 VX i-VTEC   505000  2017      87150   \n",
       "1  Maruti Suzuki                  Swift DZire VDI   450000  2014      75000   \n",
       "2        Hyundai             i10 Magna 1.2 Kappa2   220000  2011      67000   \n",
       "3         Toyota                         Glanza G   799000  2019      37500   \n",
       "4         Toyota  Innova 2.4 VX 7 STR [2016-2020]  1950000  2018      69000   \n",
       "\n",
       "  Fuel Type Transmission   Location   Color   Owner Seller Type   Engine  \\\n",
       "0    Petrol       Manual       Pune    Grey   First   Corporate  1198 cc   \n",
       "1    Diesel       Manual   Ludhiana   White  Second  Individual  1248 cc   \n",
       "2    Petrol       Manual    Lucknow  Maroon   First  Individual  1197 cc   \n",
       "3    Petrol       Manual  Mangalore     Red   First  Individual  1197 cc   \n",
       "4    Diesel       Manual     Mumbai    Grey   First  Individual  2393 cc   \n",
       "\n",
       "            Max Power              Max Torque Drivetrain  Length   Width  \\\n",
       "0   87 bhp @ 6000 rpm       109 Nm @ 4500 rpm        FWD  3990.0  1680.0   \n",
       "1   74 bhp @ 4000 rpm       190 Nm @ 2000 rpm        FWD  3995.0  1695.0   \n",
       "2   79 bhp @ 6000 rpm  112.7619 Nm @ 4000 rpm        FWD  3585.0  1595.0   \n",
       "3   82 bhp @ 6000 rpm       113 Nm @ 4200 rpm        FWD  3995.0  1745.0   \n",
       "4  148 bhp @ 3400 rpm       343 Nm @ 1400 rpm        RWD  4735.0  1830.0   \n",
       "\n",
       "   Height  Seating Capacity  Fuel Tank Capacity  \n",
       "0  1505.0               5.0                35.0  \n",
       "1  1555.0               5.0                42.0  \n",
       "2  1550.0               5.0                35.0  \n",
       "3  1510.0               5.0                37.0  \n",
       "4  1795.0               7.0                55.0  "
      ]
     },
     "execution_count": 3,
     "metadata": {},
     "output_type": "execute_result"
    }
   ],
   "source": [
    "df.head()"
   ]
  },
  {
   "cell_type": "code",
   "execution_count": 4,
   "id": "c0e55ddb-fa7e-49f4-ac20-d7d35fb15d79",
   "metadata": {},
   "outputs": [
    {
     "data": {
      "text/plain": [
       "(2059, 20)"
      ]
     },
     "execution_count": 4,
     "metadata": {},
     "output_type": "execute_result"
    }
   ],
   "source": [
    "df.shape"
   ]
  },
  {
   "cell_type": "code",
   "execution_count": 5,
   "id": "4246c9c9-4177-4993-be7b-8a51b4da05da",
   "metadata": {},
   "outputs": [
    {
     "name": "stdout",
     "output_type": "stream",
     "text": [
      "<class 'pandas.core.frame.DataFrame'>\n",
      "RangeIndex: 2059 entries, 0 to 2058\n",
      "Data columns (total 20 columns):\n",
      " #   Column              Non-Null Count  Dtype  \n",
      "---  ------              --------------  -----  \n",
      " 0   Make                2059 non-null   object \n",
      " 1   Model               2059 non-null   object \n",
      " 2   Price               2059 non-null   int64  \n",
      " 3   Year                2059 non-null   int64  \n",
      " 4   Kilometer           2059 non-null   int64  \n",
      " 5   Fuel Type           2059 non-null   object \n",
      " 6   Transmission        2059 non-null   object \n",
      " 7   Location            2059 non-null   object \n",
      " 8   Color               2059 non-null   object \n",
      " 9   Owner               2059 non-null   object \n",
      " 10  Seller Type         2059 non-null   object \n",
      " 11  Engine              1979 non-null   object \n",
      " 12  Max Power           1979 non-null   object \n",
      " 13  Max Torque          1979 non-null   object \n",
      " 14  Drivetrain          1923 non-null   object \n",
      " 15  Length              1995 non-null   float64\n",
      " 16  Width               1995 non-null   float64\n",
      " 17  Height              1995 non-null   float64\n",
      " 18  Seating Capacity    1995 non-null   float64\n",
      " 19  Fuel Tank Capacity  1946 non-null   float64\n",
      "dtypes: float64(5), int64(3), object(12)\n",
      "memory usage: 321.8+ KB\n"
     ]
    }
   ],
   "source": [
    "df.info()"
   ]
  },
  {
   "cell_type": "code",
   "execution_count": 6,
   "id": "6a8140d5-a9ee-4e05-9caa-b200a583ff94",
   "metadata": {},
   "outputs": [
    {
     "data": {
      "text/plain": [
       "Make                    0\n",
       "Model                   0\n",
       "Price                   0\n",
       "Year                    0\n",
       "Kilometer               0\n",
       "Fuel Type               0\n",
       "Transmission            0\n",
       "Location                0\n",
       "Color                   0\n",
       "Owner                   0\n",
       "Seller Type             0\n",
       "Engine                 80\n",
       "Max Power              80\n",
       "Max Torque             80\n",
       "Drivetrain            136\n",
       "Length                 64\n",
       "Width                  64\n",
       "Height                 64\n",
       "Seating Capacity       64\n",
       "Fuel Tank Capacity    113\n",
       "dtype: int64"
      ]
     },
     "execution_count": 6,
     "metadata": {},
     "output_type": "execute_result"
    }
   ],
   "source": [
    "df.isnull().sum()"
   ]
  },
  {
   "cell_type": "code",
   "execution_count": 7,
   "id": "387d395c-4141-465d-affb-6d1cd5d01870",
   "metadata": {},
   "outputs": [
    {
     "data": {
      "text/plain": [
       "0"
      ]
     },
     "execution_count": 7,
     "metadata": {},
     "output_type": "execute_result"
    }
   ],
   "source": [
    "df.duplicated().sum()"
   ]
  },
  {
   "cell_type": "markdown",
   "id": "f7513dee-c1a2-481b-9c79-69bdfd1a5719",
   "metadata": {},
   "source": [
    "# EDA (Exploratory Data Analysis)"
   ]
  },
  {
   "cell_type": "markdown",
   "id": "6f714041-0d99-4412-bdf4-206b6683e7ec",
   "metadata": {},
   "source": [
    "# Make "
   ]
  },
  {
   "cell_type": "code",
   "execution_count": 8,
   "id": "02ba9d9a-545f-425e-b933-70ed27eeb6eb",
   "metadata": {},
   "outputs": [
    {
     "data": {
      "text/plain": [
       "array(['Honda', 'Maruti Suzuki', 'Hyundai', 'Toyota', 'Mercedes-Benz',\n",
       "       'BMW', 'Skoda', 'Nissan', 'Renault', 'Tata', 'Volkswagen', 'Ford',\n",
       "       'Audi', 'Mahindra', 'MG', 'Jeep', 'Porsche', 'Kia', 'Land Rover',\n",
       "       'Volvo', 'Maserati', 'Jaguar', 'Isuzu', 'Fiat', 'MINI', 'Ferrari',\n",
       "       'Mitsubishi', 'Datsun', 'Lamborghini', 'Chevrolet', 'Ssangyong',\n",
       "       'Rolls-Royce', 'Lexus'], dtype=object)"
      ]
     },
     "execution_count": 8,
     "metadata": {},
     "output_type": "execute_result"
    }
   ],
   "source": [
    "df[\"Make\"].unique()"
   ]
  },
  {
   "cell_type": "code",
   "execution_count": 9,
   "id": "d2fa12dc-0b31-4235-b187-b00e4d33b441",
   "metadata": {},
   "outputs": [
    {
     "data": {
      "text/plain": [
       "Make\n",
       "Maruti Suzuki    440\n",
       "Hyundai          349\n",
       "Mercedes-Benz    171\n",
       "Honda            158\n",
       "Toyota           132\n",
       "Audi             127\n",
       "BMW              121\n",
       "Mahindra         119\n",
       "Tata              57\n",
       "Volkswagen        50\n",
       "Ford              48\n",
       "Renault           43\n",
       "Skoda             40\n",
       "Land Rover        33\n",
       "Kia               23\n",
       "Jeep              18\n",
       "Jaguar            17\n",
       "MG                17\n",
       "Nissan            16\n",
       "Volvo             16\n",
       "Porsche           15\n",
       "MINI              11\n",
       "Datsun             8\n",
       "Chevrolet          7\n",
       "Lexus              6\n",
       "Mitsubishi         4\n",
       "Ssangyong          3\n",
       "Rolls-Royce        3\n",
       "Isuzu              2\n",
       "Fiat               2\n",
       "Maserati           1\n",
       "Ferrari            1\n",
       "Lamborghini        1\n",
       "Name: count, dtype: int64"
      ]
     },
     "execution_count": 9,
     "metadata": {},
     "output_type": "execute_result"
    }
   ],
   "source": [
    "df[\"Make\"].value_counts()"
   ]
  },
  {
   "cell_type": "code",
   "execution_count": 10,
   "id": "54643c5d-8594-4af5-9fb4-a4591b0a7ca4",
   "metadata": {},
   "outputs": [
    {
     "data": {
      "text/plain": [
       "<Axes: xlabel='Make'>"
      ]
     },
     "execution_count": 10,
     "metadata": {},
     "output_type": "execute_result"
    },
    {
     "data": {
      "image/png": "[encoded data removed]",
      "text/plain": [
       "<Figure size 640x480 with 1 Axes>"
      ]
     },
     "metadata": {},
     "output_type": "display_data"
    }
   ],
   "source": [
    "df['Make'].value_counts().plot(kind = \"bar\")"
   ]
  },
  {
   "cell_type": "code",
   "execution_count": 11,
   "id": "7c518197-d9cb-41e0-aedb-593e23d5a773",
   "metadata": {},
   "outputs": [
    {
     "data": {
      "image/png": "[encoded data removed]",
      "text/plain": [
       "<Figure size 640x480 with 1 Axes>"
      ]
     },
     "metadata": {},
     "output_type": "display_data"
    }
   ],
   "source": [
    "sns.barplot(x = df['Make'], y = df['Price'])\n",
    "plt.xticks(rotation = \"vertical\")\n",
    "plt.show()"
   ]
  },
  {
   "cell_type": "markdown",
   "id": "abf87435-e6a3-4277-8a07-dc2f4e16c1ea",
   "metadata": {},
   "source": [
    "# Model"
   ]
  },
  {
   "cell_type": "code",
   "execution_count": 12,
   "id": "13e8ff67-85ff-45fb-99b8-6b16af83e626",
   "metadata": {},
   "outputs": [
    {
     "data": {
      "text/plain": [
       "array(['Amaze 1.2 VX i-VTEC', 'Swift DZire VDI', 'i10 Magna 1.2 Kappa2',\n",
       "       ..., 'Ritz Vxi (ABS) BS-IV', 'XUV500 W8 [2015-2017]',\n",
       "       'Figo Duratec Petrol ZXI 1.2'], dtype=object)"
      ]
     },
     "execution_count": 12,
     "metadata": {},
     "output_type": "execute_result"
    }
   ],
   "source": [
    "df['Model'].unique()"
   ]
  },
  {
   "cell_type": "code",
   "execution_count": 13,
   "id": "0d1f88f0-2170-4a10-8ad1-bda46fae536b",
   "metadata": {},
   "outputs": [
    {
     "data": {
      "text/plain": [
       "Model\n",
       "X1 sDrive20d xLine                 15\n",
       "Swift DZire VDI                    14\n",
       "City V                             13\n",
       "Fortuner 2.8 4x2 AT [2016-2020]    13\n",
       "Swift DZire VXI                    12\n",
       "                                   ..\n",
       "XF R 5.0 V8 Supercharged            1\n",
       "Pajero SFX 2.8                      1\n",
       "Etios G                             1\n",
       "Marazzo M6 Plus 8 STR               1\n",
       "Figo Duratec Petrol ZXI 1.2         1\n",
       "Name: count, Length: 1050, dtype: int64"
      ]
     },
     "execution_count": 13,
     "metadata": {},
     "output_type": "execute_result"
    }
   ],
   "source": [
    "df['Model'].value_counts()"
   ]
  },
  {
   "cell_type": "code",
   "execution_count": 14,
   "id": "df52709b-e76a-405b-bc4c-3f65cdaa882a",
   "metadata": {},
   "outputs": [],
   "source": [
    "df.drop(columns = ['Model'], inplace = True)"
   ]
  },
  {
   "cell_type": "code",
   "execution_count": 15,
   "id": "4f397b8f-f2fc-46cf-b6fd-1702caeeb5ee",
   "metadata": {},
   "outputs": [
    {
     "data": {
      "text/html": [
       "<div>\n",
       "<style scoped>\n",
       "    .dataframe tbody tr th:only-of-type {\n",
       "        vertical-align: middle;\n",
       "    }\n",
       "\n",
       "    .dataframe tbody tr th {\n",
       "        vertical-align: top;\n",
       "    }\n",
       "\n",
       "    .dataframe thead th {\n",
       "        text-align: right;\n",
       "    }\n",
       "</style>\n",
       "<table border=\"1\" class=\"dataframe\">\n",
       "  <thead>\n",
       "    <tr style=\"text-align: right;\">\n",
       "      <th></th>\n",
       "      <th>Make</th>\n",
       "      <th>Price</th>\n",
       "      <th>Year</th>\n",
       "      <th>Kilometer</th>\n",
       "      <th>Fuel Type</th>\n",
       "      <th>Transmission</th>\n",
       "      <th>Location</th>\n",
       "      <th>Color</th>\n",
       "      <th>Owner</th>\n",
       "      <th>Seller Type</th>\n",
       "      <th>Engine</th>\n",
       "      <th>Max Power</th>\n",
       "      <th>Max Torque</th>\n",
       "      <th>Drivetrain</th>\n",
       "      <th>Length</th>\n",
       "      <th>Width</th>\n",
       "      <th>Height</th>\n",
       "      <th>Seating Capacity</th>\n",
       "      <th>Fuel Tank Capacity</th>\n",
       "    </tr>\n",
       "  </thead>\n",
       "  <tbody>\n",
       "    <tr>\n",
       "      <th>0</th>\n",
       "      <td>Honda</td>\n",
       "      <td>505000</td>\n",
       "      <td>2017</td>\n",
       "      <td>87150</td>\n",
       "      <td>Petrol</td>\n",
       "      <td>Manual</td>\n",
       "      <td>Pune</td>\n",
       "      <td>Grey</td>\n",
       "      <td>First</td>\n",
       "      <td>Corporate</td>\n",
       "      <td>1198 cc</td>\n",
       "      <td>87 bhp @ 6000 rpm</td>\n",
       "      <td>109 Nm @ 4500 rpm</td>\n",
       "      <td>FWD</td>\n",
       "      <td>3990.0</td>\n",
       "      <td>1680.0</td>\n",
       "      <td>1505.0</td>\n",
       "      <td>5.0</td>\n",
       "      <td>35.0</td>\n",
       "    </tr>\n",
       "    <tr>\n",
       "      <th>1</th>\n",
       "      <td>Maruti Suzuki</td>\n",
       "      <td>450000</td>\n",
       "      <td>2014</td>\n",
       "      <td>75000</td>\n",
       "      <td>Diesel</td>\n",
       "      <td>Manual</td>\n",
       "      <td>Ludhiana</td>\n",
       "      <td>White</td>\n",
       "      <td>Second</td>\n",
       "      <td>Individual</td>\n",
       "      <td>1248 cc</td>\n",
       "      <td>74 bhp @ 4000 rpm</td>\n",
       "      <td>190 Nm @ 2000 rpm</td>\n",
       "      <td>FWD</td>\n",
       "      <td>3995.0</td>\n",
       "      <td>1695.0</td>\n",
       "      <td>1555.0</td>\n",
       "      <td>5.0</td>\n",
       "      <td>42.0</td>\n",
       "    </tr>\n",
       "    <tr>\n",
       "      <th>2</th>\n",
       "      <td>Hyundai</td>\n",
       "      <td>220000</td>\n",
       "      <td>2011</td>\n",
       "      <td>67000</td>\n",
       "      <td>Petrol</td>\n",
       "      <td>Manual</td>\n",
       "      <td>Lucknow</td>\n",
       "      <td>Maroon</td>\n",
       "      <td>First</td>\n",
       "      <td>Individual</td>\n",
       "      <td>1197 cc</td>\n",
       "      <td>79 bhp @ 6000 rpm</td>\n",
       "      <td>112.7619 Nm @ 4000 rpm</td>\n",
       "      <td>FWD</td>\n",
       "      <td>3585.0</td>\n",
       "      <td>1595.0</td>\n",
       "      <td>1550.0</td>\n",
       "      <td>5.0</td>\n",
       "      <td>35.0</td>\n",
       "    </tr>\n",
       "    <tr>\n",
       "      <th>3</th>\n",
       "      <td>Toyota</td>\n",
       "      <td>799000</td>\n",
       "      <td>2019</td>\n",
       "      <td>37500</td>\n",
       "      <td>Petrol</td>\n",
       "      <td>Manual</td>\n",
       "      <td>Mangalore</td>\n",
       "      <td>Red</td>\n",
       "      <td>First</td>\n",
       "      <td>Individual</td>\n",
       "      <td>1197 cc</td>\n",
       "      <td>82 bhp @ 6000 rpm</td>\n",
       "      <td>113 Nm @ 4200 rpm</td>\n",
       "      <td>FWD</td>\n",
       "      <td>3995.0</td>\n",
       "      <td>1745.0</td>\n",
       "      <td>1510.0</td>\n",
       "      <td>5.0</td>\n",
       "      <td>37.0</td>\n",
       "    </tr>\n",
       "    <tr>\n",
       "      <th>4</th>\n",
       "      <td>Toyota</td>\n",
       "      <td>1950000</td>\n",
       "      <td>2018</td>\n",
       "      <td>69000</td>\n",
       "      <td>Diesel</td>\n",
       "      <td>Manual</td>\n",
       "      <td>Mumbai</td>\n",
       "      <td>Grey</td>\n",
       "      <td>First</td>\n",
       "      <td>Individual</td>\n",
       "      <td>2393 cc</td>\n",
       "      <td>148 bhp @ 3400 rpm</td>\n",
       "      <td>343 Nm @ 1400 rpm</td>\n",
       "      <td>RWD</td>\n",
       "      <td>4735.0</td>\n",
       "      <td>1830.0</td>\n",
       "      <td>1795.0</td>\n",
       "      <td>7.0</td>\n",
       "      <td>55.0</td>\n",
       "    </tr>\n",
       "  </tbody>\n",
       "</table>\n",
       "</div>"
      ],
      "text/plain": [
       "            Make    Price  Year  Kilometer Fuel Type Transmission   Location  \\\n",
       "0          Honda   505000  2017      87150    Petrol       Manual       Pune   \n",
       "1  Maruti Suzuki   450000  2014      75000    Diesel       Manual   Ludhiana   \n",
       "2        Hyundai   220000  2011      67000    Petrol       Manual    Lucknow   \n",
       "3         Toyota   799000  2019      37500    Petrol       Manual  Mangalore   \n",
       "4         Toyota  1950000  2018      69000    Diesel       Manual     Mumbai   \n",
       "\n",
       "    Color   Owner Seller Type   Engine           Max Power  \\\n",
       "0    Grey   First   Corporate  1198 cc   87 bhp @ 6000 rpm   \n",
       "1   White  Second  Individual  1248 cc   74 bhp @ 4000 rpm   \n",
       "2  Maroon   First  Individual  1197 cc   79 bhp @ 6000 rpm   \n",
       "3     Red   First  Individual  1197 cc   82 bhp @ 6000 rpm   \n",
       "4    Grey   First  Individual  2393 cc  148 bhp @ 3400 rpm   \n",
       "\n",
       "               Max Torque Drivetrain  Length   Width  Height  \\\n",
       "0       109 Nm @ 4500 rpm        FWD  3990.0  1680.0  1505.0   \n",
       "1       190 Nm @ 2000 rpm        FWD  3995.0  1695.0  1555.0   \n",
       "2  112.7619 Nm @ 4000 rpm        FWD  3585.0  1595.0  1550.0   \n",
       "3       113 Nm @ 4200 rpm        FWD  3995.0  1745.0  1510.0   \n",
       "4       343 Nm @ 1400 rpm        RWD  4735.0  1830.0  1795.0   \n",
       "\n",
       "   Seating Capacity  Fuel Tank Capacity  \n",
       "0               5.0                35.0  \n",
       "1               5.0                42.0  \n",
       "2               5.0                35.0  \n",
       "3               5.0                37.0  \n",
       "4               7.0                55.0  "
      ]
     },
     "execution_count": 15,
     "metadata": {},
     "output_type": "execute_result"
    }
   ],
   "source": [
    "df.head()"
   ]
  },
  {
   "cell_type": "markdown",
   "id": "e4301cda-0ff0-4e7f-93a7-d3b852c69f05",
   "metadata": {},
   "source": [
    "# Year "
   ]
  },
  {
   "cell_type": "code",
   "execution_count": 16,
   "id": "775ae1b5-80c9-4c6b-9af3-264772b004e3",
   "metadata": {},
   "outputs": [
    {
     "data": {
      "text/plain": [
       "array([2017, 2014, 2011, 2019, 2018, 2015, 2016, 2020, 2013, 2009, 2010,\n",
       "       2021, 2012, 2006, 2022, 2007, 2008, 2004, 2002, 1988, 2000, 1996],\n",
       "      dtype=int64)"
      ]
     },
     "execution_count": 16,
     "metadata": {},
     "output_type": "execute_result"
    }
   ],
   "source": [
    "df['Year'].unique()"
   ]
  },
  {
   "cell_type": "code",
   "execution_count": 17,
   "id": "84c6c06d-59ce-4f89-9db5-7075eb6e839e",
   "metadata": {},
   "outputs": [
    {
     "data": {
      "text/plain": [
       "Year\n",
       "2018    268\n",
       "2017    262\n",
       "2019    218\n",
       "2014    192\n",
       "2016    187\n",
       "2015    178\n",
       "2021    156\n",
       "2020    132\n",
       "2013    128\n",
       "2012     92\n",
       "2022     81\n",
       "2011     79\n",
       "2009     33\n",
       "2010     27\n",
       "2008     13\n",
       "2007      6\n",
       "2006      2\n",
       "2004      1\n",
       "2002      1\n",
       "1988      1\n",
       "2000      1\n",
       "1996      1\n",
       "Name: count, dtype: int64"
      ]
     },
     "execution_count": 17,
     "metadata": {},
     "output_type": "execute_result"
    }
   ],
   "source": [
    "df['Year'].value_counts()"
   ]
  },
  {
   "cell_type": "code",
   "execution_count": 18,
   "id": "e0ba59bd-a2d5-46ef-8244-d71ca6805f13",
   "metadata": {},
   "outputs": [
    {
     "data": {
      "text/plain": [
       "<Axes: xlabel='Year'>"
      ]
     },
     "execution_count": 18,
     "metadata": {},
     "output_type": "execute_result"
    },
    {
     "data": {
      "image/png": "[encoded data removed]",
      "text/plain": [
       "<Figure size 640x480 with 1 Axes>"
      ]
     },
     "metadata": {},
     "output_type": "display_data"
    }
   ],
   "source": [
    "df['Year'].value_counts().plot(kind = \"bar\")"
   ]
  },
  {
   "cell_type": "code",
   "execution_count": 19,
   "id": "b452f2a8-ff05-4f82-9f59-64e89507638e",
   "metadata": {},
   "outputs": [
    {
     "data": {
      "image/png": "[encoded data removed]",
      "text/plain": [
       "<Figure size 640x480 with 1 Axes>"
      ]
     },
     "metadata": {},
     "output_type": "display_data"
    }
   ],
   "source": [
    "sns.barplot(x = df['Year'], y = df['Price'])\n",
    "plt.xticks(rotation = \"vertical\")\n",
    "plt.show()"
   ]
  },
  {
   "cell_type": "code",
   "execution_count": 20,
   "id": "6536d373-c2ca-4f18-a1b5-4e425b8eda1b",
   "metadata": {},
   "outputs": [],
   "source": [
    "df['Year'] = df['Year'].astype(int)"
   ]
  },
  {
   "cell_type": "code",
   "execution_count": 21,
   "id": "4a5f0917-bfbe-4cc3-88e3-abb81c67dec5",
   "metadata": {},
   "outputs": [
    {
     "name": "stdout",
     "output_type": "stream",
     "text": [
      "<class 'pandas.core.frame.DataFrame'>\n",
      "RangeIndex: 2059 entries, 0 to 2058\n",
      "Data columns (total 19 columns):\n",
      " #   Column              Non-Null Count  Dtype  \n",
      "---  ------              --------------  -----  \n",
      " 0   Make                2059 non-null   object \n",
      " 1   Price               2059 non-null   int64  \n",
      " 2   Year                2059 non-null   int32  \n",
      " 3   Kilometer           2059 non-null   int64  \n",
      " 4   Fuel Type           2059 non-null   object \n",
      " 5   Transmission        2059 non-null   object \n",
      " 6   Location            2059 non-null   object \n",
      " 7   Color               2059 non-null   object \n",
      " 8   Owner               2059 non-null   object \n",
      " 9   Seller Type         2059 non-null   object \n",
      " 10  Engine              1979 non-null   object \n",
      " 11  Max Power           1979 non-null   object \n",
      " 12  Max Torque          1979 non-null   object \n",
      " 13  Drivetrain          1923 non-null   object \n",
      " 14  Length              1995 non-null   float64\n",
      " 15  Width               1995 non-null   float64\n",
      " 16  Height              1995 non-null   float64\n",
      " 17  Seating Capacity    1995 non-null   float64\n",
      " 18  Fuel Tank Capacity  1946 non-null   float64\n",
      "dtypes: float64(5), int32(1), int64(2), object(11)\n",
      "memory usage: 297.7+ KB\n"
     ]
    }
   ],
   "source": [
    "df.info()"
   ]
  },
  {
   "cell_type": "markdown",
   "id": "dac35362-3a62-433e-89ec-97fd0f652a67",
   "metadata": {},
   "source": [
    "# Fuel Type"
   ]
  },
  {
   "cell_type": "code",
   "execution_count": 22,
   "id": "74f8cae3-b566-4076-a805-f2732fc01cbf",
   "metadata": {},
   "outputs": [
    {
     "data": {
      "text/plain": [
       "array(['Petrol', 'Diesel', 'CNG', 'LPG', 'Electric', 'CNG + CNG',\n",
       "       'Hybrid', 'Petrol + CNG', 'Petrol + LPG'], dtype=object)"
      ]
     },
     "execution_count": 22,
     "metadata": {},
     "output_type": "execute_result"
    }
   ],
   "source": [
    "df['Fuel Type'].unique()"
   ]
  },
  {
   "cell_type": "code",
   "execution_count": 23,
   "id": "e08b4879-5a65-480b-9e58-f2f97ef9cfb1",
   "metadata": {},
   "outputs": [
    {
     "data": {
      "text/plain": [
       "Fuel Type\n",
       "Diesel          1049\n",
       "Petrol           942\n",
       "CNG               50\n",
       "Electric           7\n",
       "LPG                5\n",
       "Hybrid             3\n",
       "CNG + CNG          1\n",
       "Petrol + CNG       1\n",
       "Petrol + LPG       1\n",
       "Name: count, dtype: int64"
      ]
     },
     "execution_count": 23,
     "metadata": {},
     "output_type": "execute_result"
    }
   ],
   "source": [
    "df['Fuel Type'].value_counts()"
   ]
  },
  {
   "cell_type": "code",
   "execution_count": 24,
   "id": "ebaf81a8-1f2b-4ad2-846a-e9e967129179",
   "metadata": {},
   "outputs": [
    {
     "data": {
      "text/plain": [
       "<Axes: xlabel='Fuel Type'>"
      ]
     },
     "execution_count": 24,
     "metadata": {},
     "output_type": "execute_result"
    },
    {
     "data": {
      "image/png": "[encoded data removed]",
      "text/plain": [
       "<Figure size 640x480 with 1 Axes>"
      ]
     },
     "metadata": {},
     "output_type": "display_data"
    }
   ],
   "source": [
    "df['Fuel Type'].value_counts().plot(kind = \"bar\")"
   ]
  },
  {
   "cell_type": "code",
   "execution_count": 25,
   "id": "dd368740-8c5a-465f-ad11-28ce40b339b3",
   "metadata": {},
   "outputs": [],
   "source": [
    "df['Fuel Type'] = df['Fuel Type'].replace({'CNG + CNG':'CNG', 'Petrol + CNG':'Dual-system(Hybrid)', 'Petrol + LPG':'Dual-system(Hybrid)', 'Hybrid':'Dual-system(Hybrid)'})"
   ]
  },
  {
   "cell_type": "code",
   "execution_count": 26,
   "id": "19b33027-4641-4433-b570-3ca409c9cf8c",
   "metadata": {},
   "outputs": [
    {
     "data": {
      "text/plain": [
       "Fuel Type\n",
       "Diesel                 1049\n",
       "Petrol                  942\n",
       "CNG                      51\n",
       "Electric                  7\n",
       "LPG                       5\n",
       "Dual-system(Hybrid)       5\n",
       "Name: count, dtype: int64"
      ]
     },
     "execution_count": 26,
     "metadata": {},
     "output_type": "execute_result"
    }
   ],
   "source": [
    "df['Fuel Type'].value_counts()"
   ]
  },
  {
   "cell_type": "code",
   "execution_count": 27,
   "id": "13f06714-d0ed-441e-9574-65238ae9bd51",
   "metadata": {},
   "outputs": [
    {
     "data": {
      "text/plain": [
       "<Axes: xlabel='Fuel Type'>"
      ]
     },
     "execution_count": 27,
     "metadata": {},
     "output_type": "execute_result"
    },
    {
     "data": {
      "image/png": "[encoded data removed]",
      "text/plain": [
       "<Figure size 640x480 with 1 Axes>"
      ]
     },
     "metadata": {},
     "output_type": "display_data"
    }
   ],
   "source": [
    "df['Fuel Type'].value_counts().plot(kind = \"bar\")"
   ]
  },
  {
   "cell_type": "code",
   "execution_count": 28,
   "id": "1c7058db-9c14-46a8-a28a-f7e44904f585",
   "metadata": {},
   "outputs": [
    {
     "data": {
      "image/png": "[encoded data removed]",
      "text/plain": [
       "<Figure size 640x480 with 1 Axes>"
      ]
     },
     "metadata": {},
     "output_type": "display_data"
    }
   ],
   "source": [
    "sns.barplot(x = df['Fuel Type'], y = df['Price'])\n",
    "plt.xticks(rotation = \"vertical\")\n",
    "plt.show()"
   ]
  },
  {
   "cell_type": "markdown",
   "id": "008e8cfb-b444-455b-a39a-d04dfaaecbfa",
   "metadata": {},
   "source": [
    "# Location "
   ]
  },
  {
   "cell_type": "code",
   "execution_count": 29,
   "id": "af54c5c5-c0d4-4329-9fd2-2d5c7ebb5fe7",
   "metadata": {},
   "outputs": [
    {
     "name": "stdout",
     "output_type": "stream",
     "text": [
      "['Pune' 'Ludhiana' 'Lucknow' 'Mangalore' 'Mumbai' 'Coimbatore' 'Bangalore'\n",
      " 'Delhi' 'Raipur' 'Kanpur' 'Patna' 'Vadodara' 'Hyderabad' 'Yamunanagar'\n",
      " 'Gurgaon' 'Jaipur' 'Deoghar' 'Agra' 'Goa' 'Warangal' 'Jalandhar' 'Noida'\n",
      " 'Ahmedabad' 'Mohali' 'Navi Mumbai' 'Ghaziabad' 'Kolkata' 'Zirakpur'\n",
      " 'Nagpur' 'Thane' 'Faridabad' 'Ranchi' 'Chandigarh' 'Amritsar' 'Chennai'\n",
      " 'Udupi' 'Panvel' 'Jamshedpur' 'Aurangabad' 'Rudrapur' 'Nashik' 'Varanasi'\n",
      " 'Salem' 'Dehradun' 'Valsad' 'Haldwani' 'Dharwad' 'Surat' 'Indore'\n",
      " 'Karnal' 'Panchkula' 'Mysore' 'Rohtak' 'Ambala Cantt' 'Samastipur'\n",
      " 'Unnao' 'Purnea' 'Bhubaneswar' 'Kheda' 'Kollam' 'Meerut' 'Ernakulam'\n",
      " 'Kharar' 'Mirzapur' 'Bhopal' 'Gorakhpur' 'Guwahati' 'Allahabad'\n",
      " 'Muzaffurpur' 'Faizabad' 'Kota' 'Pimpri-Chinchwad' 'Dak. Kannada'\n",
      " 'Ranga Reddy' 'Bulandshahar' 'Roorkee' 'Siliguri']\n",
      "77\n"
     ]
    }
   ],
   "source": [
    "print(df['Location'].unique())\n",
    "print(df['Location'].nunique())"
   ]
  },
  {
   "cell_type": "code",
   "execution_count": 30,
   "id": "7b157dde-ca4d-40c9-8126-5f48176e3193",
   "metadata": {},
   "outputs": [],
   "source": [
    "df.drop(columns = ['Location'], inplace = True)"
   ]
  },
  {
   "cell_type": "code",
   "execution_count": 31,
   "id": "68503d8c-cc6f-488a-976e-38bb46c6aeda",
   "metadata": {},
   "outputs": [
    {
     "data": {
      "text/html": [
       "<div>\n",
       "<style scoped>\n",
       "    .dataframe tbody tr th:only-of-type {\n",
       "        vertical-align: middle;\n",
       "    }\n",
       "\n",
       "    .dataframe tbody tr th {\n",
       "        vertical-align: top;\n",
       "    }\n",
       "\n",
       "    .dataframe thead th {\n",
       "        text-align: right;\n",
       "    }\n",
       "</style>\n",
       "<table border=\"1\" class=\"dataframe\">\n",
       "  <thead>\n",
       "    <tr style=\"text-align: right;\">\n",
       "      <th></th>\n",
       "      <th>Make</th>\n",
       "      <th>Price</th>\n",
       "      <th>Year</th>\n",
       "      <th>Kilometer</th>\n",
       "      <th>Fuel Type</th>\n",
       "      <th>Transmission</th>\n",
       "      <th>Color</th>\n",
       "      <th>Owner</th>\n",
       "      <th>Seller Type</th>\n",
       "      <th>Engine</th>\n",
       "      <th>Max Power</th>\n",
       "      <th>Max Torque</th>\n",
       "      <th>Drivetrain</th>\n",
       "      <th>Length</th>\n",
       "      <th>Width</th>\n",
       "      <th>Height</th>\n",
       "      <th>Seating Capacity</th>\n",
       "      <th>Fuel Tank Capacity</th>\n",
       "    </tr>\n",
       "  </thead>\n",
       "  <tbody>\n",
       "    <tr>\n",
       "      <th>0</th>\n",
       "      <td>Honda</td>\n",
       "      <td>505000</td>\n",
       "      <td>2017</td>\n",
       "      <td>87150</td>\n",
       "      <td>Petrol</td>\n",
       "      <td>Manual</td>\n",
       "      <td>Grey</td>\n",
       "      <td>First</td>\n",
       "      <td>Corporate</td>\n",
       "      <td>1198 cc</td>\n",
       "      <td>87 bhp @ 6000 rpm</td>\n",
       "      <td>109 Nm @ 4500 rpm</td>\n",
       "      <td>FWD</td>\n",
       "      <td>3990.0</td>\n",
       "      <td>1680.0</td>\n",
       "      <td>1505.0</td>\n",
       "      <td>5.0</td>\n",
       "      <td>35.0</td>\n",
       "    </tr>\n",
       "    <tr>\n",
       "      <th>1</th>\n",
       "      <td>Maruti Suzuki</td>\n",
       "      <td>450000</td>\n",
       "      <td>2014</td>\n",
       "      <td>75000</td>\n",
       "      <td>Diesel</td>\n",
       "      <td>Manual</td>\n",
       "      <td>White</td>\n",
       "      <td>Second</td>\n",
       "      <td>Individual</td>\n",
       "      <td>1248 cc</td>\n",
       "      <td>74 bhp @ 4000 rpm</td>\n",
       "      <td>190 Nm @ 2000 rpm</td>\n",
       "      <td>FWD</td>\n",
       "      <td>3995.0</td>\n",
       "      <td>1695.0</td>\n",
       "      <td>1555.0</td>\n",
       "      <td>5.0</td>\n",
       "      <td>42.0</td>\n",
       "    </tr>\n",
       "    <tr>\n",
       "      <th>2</th>\n",
       "      <td>Hyundai</td>\n",
       "      <td>220000</td>\n",
       "      <td>2011</td>\n",
       "      <td>67000</td>\n",
       "      <td>Petrol</td>\n",
       "      <td>Manual</td>\n",
       "      <td>Maroon</td>\n",
       "      <td>First</td>\n",
       "      <td>Individual</td>\n",
       "      <td>1197 cc</td>\n",
       "      <td>79 bhp @ 6000 rpm</td>\n",
       "      <td>112.7619 Nm @ 4000 rpm</td>\n",
       "      <td>FWD</td>\n",
       "      <td>3585.0</td>\n",
       "      <td>1595.0</td>\n",
       "      <td>1550.0</td>\n",
       "      <td>5.0</td>\n",
       "      <td>35.0</td>\n",
       "    </tr>\n",
       "    <tr>\n",
       "      <th>3</th>\n",
       "      <td>Toyota</td>\n",
       "      <td>799000</td>\n",
       "      <td>2019</td>\n",
       "      <td>37500</td>\n",
       "      <td>Petrol</td>\n",
       "      <td>Manual</td>\n",
       "      <td>Red</td>\n",
       "      <td>First</td>\n",
       "      <td>Individual</td>\n",
       "      <td>1197 cc</td>\n",
       "      <td>82 bhp @ 6000 rpm</td>\n",
       "      <td>113 Nm @ 4200 rpm</td>\n",
       "      <td>FWD</td>\n",
       "      <td>3995.0</td>\n",
       "      <td>1745.0</td>\n",
       "      <td>1510.0</td>\n",
       "      <td>5.0</td>\n",
       "      <td>37.0</td>\n",
       "    </tr>\n",
       "    <tr>\n",
       "      <th>4</th>\n",
       "      <td>Toyota</td>\n",
       "      <td>1950000</td>\n",
       "      <td>2018</td>\n",
       "      <td>69000</td>\n",
       "      <td>Diesel</td>\n",
       "      <td>Manual</td>\n",
       "      <td>Grey</td>\n",
       "      <td>First</td>\n",
       "      <td>Individual</td>\n",
       "      <td>2393 cc</td>\n",
       "      <td>148 bhp @ 3400 rpm</td>\n",
       "      <td>343 Nm @ 1400 rpm</td>\n",
       "      <td>RWD</td>\n",
       "      <td>4735.0</td>\n",
       "      <td>1830.0</td>\n",
       "      <td>1795.0</td>\n",
       "      <td>7.0</td>\n",
       "      <td>55.0</td>\n",
       "    </tr>\n",
       "  </tbody>\n",
       "</table>\n",
       "</div>"
      ],
      "text/plain": [
       "            Make    Price  Year  Kilometer Fuel Type Transmission   Color  \\\n",
       "0          Honda   505000  2017      87150    Petrol       Manual    Grey   \n",
       "1  Maruti Suzuki   450000  2014      75000    Diesel       Manual   White   \n",
       "2        Hyundai   220000  2011      67000    Petrol       Manual  Maroon   \n",
       "3         Toyota   799000  2019      37500    Petrol       Manual     Red   \n",
       "4         Toyota  1950000  2018      69000    Diesel       Manual    Grey   \n",
       "\n",
       "    Owner Seller Type   Engine           Max Power              Max Torque  \\\n",
       "0   First   Corporate  1198 cc   87 bhp @ 6000 rpm       109 Nm @ 4500 rpm   \n",
       "1  Second  Individual  1248 cc   74 bhp @ 4000 rpm       190 Nm @ 2000 rpm   \n",
       "2   First  Individual  1197 cc   79 bhp @ 6000 rpm  112.7619 Nm @ 4000 rpm   \n",
       "3   First  Individual  1197 cc   82 bhp @ 6000 rpm       113 Nm @ 4200 rpm   \n",
       "4   First  Individual  2393 cc  148 bhp @ 3400 rpm       343 Nm @ 1400 rpm   \n",
       "\n",
       "  Drivetrain  Length   Width  Height  Seating Capacity  Fuel Tank Capacity  \n",
       "0        FWD  3990.0  1680.0  1505.0               5.0                35.0  \n",
       "1        FWD  3995.0  1695.0  1555.0               5.0                42.0  \n",
       "2        FWD  3585.0  1595.0  1550.0               5.0                35.0  \n",
       "3        FWD  3995.0  1745.0  1510.0               5.0                37.0  \n",
       "4        RWD  4735.0  1830.0  1795.0               7.0                55.0  "
      ]
     },
     "execution_count": 31,
     "metadata": {},
     "output_type": "execute_result"
    }
   ],
   "source": [
    "df.head()"
   ]
  },
  {
   "cell_type": "markdown",
   "id": "9731a9be-5e33-4bba-a9d1-4a29d19a6026",
   "metadata": {},
   "source": [
    "# Transmission "
   ]
  },
  {
   "cell_type": "code",
   "execution_count": 32,
   "id": "c1ac3c9d-62a1-4e1c-b90a-8bef7a64246d",
   "metadata": {},
   "outputs": [
    {
     "data": {
      "text/plain": [
       "array(['Manual', 'Automatic'], dtype=object)"
      ]
     },
     "execution_count": 32,
     "metadata": {},
     "output_type": "execute_result"
    }
   ],
   "source": [
    "df['Transmission'].unique()"
   ]
  },
  {
   "cell_type": "code",
   "execution_count": 33,
   "id": "b55d07d8-706b-467b-a9ef-dbc8987e29b9",
   "metadata": {},
   "outputs": [
    {
     "data": {
      "text/plain": [
       "Transmission\n",
       "Manual       1133\n",
       "Automatic     926\n",
       "Name: count, dtype: int64"
      ]
     },
     "execution_count": 33,
     "metadata": {},
     "output_type": "execute_result"
    }
   ],
   "source": [
    "df['Transmission'].value_counts()"
   ]
  },
  {
   "cell_type": "code",
   "execution_count": 34,
   "id": "7667f26f-4abe-459a-9c97-8ebf05bdf499",
   "metadata": {},
   "outputs": [
    {
     "data": {
      "text/plain": [
       "<Axes: xlabel='Transmission'>"
      ]
     },
     "execution_count": 34,
     "metadata": {},
     "output_type": "execute_result"
    },
    {
     "data": {
      "image/png": "[encoded data removed]",
      "text/plain": [
       "<Figure size 640x480 with 1 Axes>"
      ]
     },
     "metadata": {},
     "output_type": "display_data"
    }
   ],
   "source": [
    "df['Transmission'].value_counts().plot(kind = \"bar\")"
   ]
  },
  {
   "cell_type": "code",
   "execution_count": 35,
   "id": "6f0f1f9a-acdb-4c88-bbb8-15a80b226b23",
   "metadata": {},
   "outputs": [
    {
     "data": {
      "image/png": "[encoded data removed]",
      "text/plain": [
       "<Figure size 640x480 with 1 Axes>"
      ]
     },
     "metadata": {},
     "output_type": "display_data"
    }
   ],
   "source": [
    "sns.barplot(x = df['Transmission'], y = df['Price'])\n",
    "plt.xticks(rotation = \"vertical\")\n",
    "plt.show()"
   ]
  },
  {
   "cell_type": "markdown",
   "id": "7fb6d085-6282-460b-917c-f8060c120f94",
   "metadata": {},
   "source": [
    "# Drivetrain "
   ]
  },
  {
   "cell_type": "code",
   "execution_count": 36,
   "id": "01c7213f-04bf-4926-a316-df0b1a428ecf",
   "metadata": {},
   "outputs": [
    {
     "data": {
      "text/plain": [
       "array(['FWD', 'RWD', 'AWD', nan], dtype=object)"
      ]
     },
     "execution_count": 36,
     "metadata": {},
     "output_type": "execute_result"
    }
   ],
   "source": [
    "df['Drivetrain'].unique()"
   ]
  },
  {
   "cell_type": "code",
   "execution_count": 37,
   "id": "42113c87-32db-4818-aec6-935d5edb18db",
   "metadata": {},
   "outputs": [
    {
     "data": {
      "text/plain": [
       "136"
      ]
     },
     "execution_count": 37,
     "metadata": {},
     "output_type": "execute_result"
    }
   ],
   "source": [
    "df['Drivetrain'].isnull().sum()"
   ]
  },
  {
   "cell_type": "code",
   "execution_count": 38,
   "id": "a5aaeaf0-b614-4269-bfe0-d012890ea7b5",
   "metadata": {},
   "outputs": [],
   "source": [
    "df[\"Drivetrain\"].fillna(df[\"Drivetrain\"].mode()[0], inplace = True)"
   ]
  },
  {
   "cell_type": "code",
   "execution_count": 39,
   "id": "1b5eaa15-9b63-41a8-b6e5-422220605e9f",
   "metadata": {},
   "outputs": [
    {
     "data": {
      "text/plain": [
       "0"
      ]
     },
     "execution_count": 39,
     "metadata": {},
     "output_type": "execute_result"
    }
   ],
   "source": [
    "df['Drivetrain'].isnull().sum()"
   ]
  },
  {
   "cell_type": "code",
   "execution_count": 40,
   "id": "30d522f5-cd58-4411-bbbb-43215abd6e8e",
   "metadata": {},
   "outputs": [
    {
     "data": {
      "text/plain": [
       "Drivetrain\n",
       "FWD    1466\n",
       "RWD     321\n",
       "AWD     272\n",
       "Name: count, dtype: int64"
      ]
     },
     "execution_count": 40,
     "metadata": {},
     "output_type": "execute_result"
    }
   ],
   "source": [
    "df['Drivetrain'].value_counts()"
   ]
  },
  {
   "cell_type": "code",
   "execution_count": 41,
   "id": "770cfa31-e653-4370-8776-e2c785934df4",
   "metadata": {},
   "outputs": [
    {
     "data": {
      "text/plain": [
       "<Axes: xlabel='Drivetrain'>"
      ]
     },
     "execution_count": 41,
     "metadata": {},
     "output_type": "execute_result"
    },
    {
     "data": {
      "image/png": "[encoded data removed]",
      "text/plain": [
       "<Figure size 640x480 with 1 Axes>"
      ]
     },
     "metadata": {},
     "output_type": "display_data"
    }
   ],
   "source": [
    "df['Drivetrain'].value_counts().plot(kind = 'bar')"
   ]
  },
  {
   "cell_type": "code",
   "execution_count": 42,
   "id": "fc30553f-3cb9-42e3-a2a8-8b6ed1357641",
   "metadata": {},
   "outputs": [
    {
     "data": {
      "image/png": "[encoded data removed]",
      "text/plain": [
       "<Figure size 640x480 with 1 Axes>"
      ]
     },
     "metadata": {},
     "output_type": "display_data"
    }
   ],
   "source": [
    "sns.barplot(x = df['Drivetrain'], y = df['Price'])\n",
    "plt.xticks(rotation = \"vertical\")\n",
    "plt.show()"
   ]
  },
  {
   "cell_type": "code",
   "execution_count": 43,
   "id": "54346421-87fa-4301-b05d-aefc8c7fe1d7",
   "metadata": {},
   "outputs": [],
   "source": [
    "df['Transmission_Drivetrain'] = df['Transmission'] + '_' + df['Drivetrain']"
   ]
  },
  {
   "cell_type": "code",
   "execution_count": 44,
   "id": "7c57cb01-52a3-4d7d-a1f0-8dd6ca53b741",
   "metadata": {},
   "outputs": [
    {
     "data": {
      "text/html": [
       "<div>\n",
       "<style scoped>\n",
       "    .dataframe tbody tr th:only-of-type {\n",
       "        vertical-align: middle;\n",
       "    }\n",
       "\n",
       "    .dataframe tbody tr th {\n",
       "        vertical-align: top;\n",
       "    }\n",
       "\n",
       "    .dataframe thead th {\n",
       "        text-align: right;\n",
       "    }\n",
       "</style>\n",
       "<table border=\"1\" class=\"dataframe\">\n",
       "  <thead>\n",
       "    <tr style=\"text-align: right;\">\n",
       "      <th></th>\n",
       "      <th>Make</th>\n",
       "      <th>Price</th>\n",
       "      <th>Year</th>\n",
       "      <th>Kilometer</th>\n",
       "      <th>Fuel Type</th>\n",
       "      <th>Transmission</th>\n",
       "      <th>Color</th>\n",
       "      <th>Owner</th>\n",
       "      <th>Seller Type</th>\n",
       "      <th>Engine</th>\n",
       "      <th>Max Power</th>\n",
       "      <th>Max Torque</th>\n",
       "      <th>Drivetrain</th>\n",
       "      <th>Length</th>\n",
       "      <th>Width</th>\n",
       "      <th>Height</th>\n",
       "      <th>Seating Capacity</th>\n",
       "      <th>Fuel Tank Capacity</th>\n",
       "      <th>Transmission_Drivetrain</th>\n",
       "    </tr>\n",
       "  </thead>\n",
       "  <tbody>\n",
       "    <tr>\n",
       "      <th>0</th>\n",
       "      <td>Honda</td>\n",
       "      <td>505000</td>\n",
       "      <td>2017</td>\n",
       "      <td>87150</td>\n",
       "      <td>Petrol</td>\n",
       "      <td>Manual</td>\n",
       "      <td>Grey</td>\n",
       "      <td>First</td>\n",
       "      <td>Corporate</td>\n",
       "      <td>1198 cc</td>\n",
       "      <td>87 bhp @ 6000 rpm</td>\n",
       "      <td>109 Nm @ 4500 rpm</td>\n",
       "      <td>FWD</td>\n",
       "      <td>3990.0</td>\n",
       "      <td>1680.0</td>\n",
       "      <td>1505.0</td>\n",
       "      <td>5.0</td>\n",
       "      <td>35.0</td>\n",
       "      <td>Manual_FWD</td>\n",
       "    </tr>\n",
       "    <tr>\n",
       "      <th>1</th>\n",
       "      <td>Maruti Suzuki</td>\n",
       "      <td>450000</td>\n",
       "      <td>2014</td>\n",
       "      <td>75000</td>\n",
       "      <td>Diesel</td>\n",
       "      <td>Manual</td>\n",
       "      <td>White</td>\n",
       "      <td>Second</td>\n",
       "      <td>Individual</td>\n",
       "      <td>1248 cc</td>\n",
       "      <td>74 bhp @ 4000 rpm</td>\n",
       "      <td>190 Nm @ 2000 rpm</td>\n",
       "      <td>FWD</td>\n",
       "      <td>3995.0</td>\n",
       "      <td>1695.0</td>\n",
       "      <td>1555.0</td>\n",
       "      <td>5.0</td>\n",
       "      <td>42.0</td>\n",
       "      <td>Manual_FWD</td>\n",
       "    </tr>\n",
       "    <tr>\n",
       "      <th>2</th>\n",
       "      <td>Hyundai</td>\n",
       "      <td>220000</td>\n",
       "      <td>2011</td>\n",
       "      <td>67000</td>\n",
       "      <td>Petrol</td>\n",
       "      <td>Manual</td>\n",
       "      <td>Maroon</td>\n",
       "      <td>First</td>\n",
       "      <td>Individual</td>\n",
       "      <td>1197 cc</td>\n",
       "      <td>79 bhp @ 6000 rpm</td>\n",
       "      <td>112.7619 Nm @ 4000 rpm</td>\n",
       "      <td>FWD</td>\n",
       "      <td>3585.0</td>\n",
       "      <td>1595.0</td>\n",
       "      <td>1550.0</td>\n",
       "      <td>5.0</td>\n",
       "      <td>35.0</td>\n",
       "      <td>Manual_FWD</td>\n",
       "    </tr>\n",
       "    <tr>\n",
       "      <th>3</th>\n",
       "      <td>Toyota</td>\n",
       "      <td>799000</td>\n",
       "      <td>2019</td>\n",
       "      <td>37500</td>\n",
       "      <td>Petrol</td>\n",
       "      <td>Manual</td>\n",
       "      <td>Red</td>\n",
       "      <td>First</td>\n",
       "      <td>Individual</td>\n",
       "      <td>1197 cc</td>\n",
       "      <td>82 bhp @ 6000 rpm</td>\n",
       "      <td>113 Nm @ 4200 rpm</td>\n",
       "      <td>FWD</td>\n",
       "      <td>3995.0</td>\n",
       "      <td>1745.0</td>\n",
       "      <td>1510.0</td>\n",
       "      <td>5.0</td>\n",
       "      <td>37.0</td>\n",
       "      <td>Manual_FWD</td>\n",
       "    </tr>\n",
       "    <tr>\n",
       "      <th>4</th>\n",
       "      <td>Toyota</td>\n",
       "      <td>1950000</td>\n",
       "      <td>2018</td>\n",
       "      <td>69000</td>\n",
       "      <td>Diesel</td>\n",
       "      <td>Manual</td>\n",
       "      <td>Grey</td>\n",
       "      <td>First</td>\n",
       "      <td>Individual</td>\n",
       "      <td>2393 cc</td>\n",
       "      <td>148 bhp @ 3400 rpm</td>\n",
       "      <td>343 Nm @ 1400 rpm</td>\n",
       "      <td>RWD</td>\n",
       "      <td>4735.0</td>\n",
       "      <td>1830.0</td>\n",
       "      <td>1795.0</td>\n",
       "      <td>7.0</td>\n",
       "      <td>55.0</td>\n",
       "      <td>Manual_RWD</td>\n",
       "    </tr>\n",
       "  </tbody>\n",
       "</table>\n",
       "</div>"
      ],
      "text/plain": [
       "            Make    Price  Year  Kilometer Fuel Type Transmission   Color  \\\n",
       "0          Honda   505000  2017      87150    Petrol       Manual    Grey   \n",
       "1  Maruti Suzuki   450000  2014      75000    Diesel       Manual   White   \n",
       "2        Hyundai   220000  2011      67000    Petrol       Manual  Maroon   \n",
       "3         Toyota   799000  2019      37500    Petrol       Manual     Red   \n",
       "4         Toyota  1950000  2018      69000    Diesel       Manual    Grey   \n",
       "\n",
       "    Owner Seller Type   Engine           Max Power              Max Torque  \\\n",
       "0   First   Corporate  1198 cc   87 bhp @ 6000 rpm       109 Nm @ 4500 rpm   \n",
       "1  Second  Individual  1248 cc   74 bhp @ 4000 rpm       190 Nm @ 2000 rpm   \n",
       "2   First  Individual  1197 cc   79 bhp @ 6000 rpm  112.7619 Nm @ 4000 rpm   \n",
       "3   First  Individual  1197 cc   82 bhp @ 6000 rpm       113 Nm @ 4200 rpm   \n",
       "4   First  Individual  2393 cc  148 bhp @ 3400 rpm       343 Nm @ 1400 rpm   \n",
       "\n",
       "  Drivetrain  Length   Width  Height  Seating Capacity  Fuel Tank Capacity  \\\n",
       "0        FWD  3990.0  1680.0  1505.0               5.0                35.0   \n",
       "1        FWD  3995.0  1695.0  1555.0               5.0                42.0   \n",
       "2        FWD  3585.0  1595.0  1550.0               5.0                35.0   \n",
       "3        FWD  3995.0  1745.0  1510.0               5.0                37.0   \n",
       "4        RWD  4735.0  1830.0  1795.0               7.0                55.0   \n",
       "\n",
       "  Transmission_Drivetrain  \n",
       "0              Manual_FWD  \n",
       "1              Manual_FWD  \n",
       "2              Manual_FWD  \n",
       "3              Manual_FWD  \n",
       "4              Manual_RWD  "
      ]
     },
     "execution_count": 44,
     "metadata": {},
     "output_type": "execute_result"
    }
   ],
   "source": [
    "df.head()"
   ]
  },
  {
   "cell_type": "code",
   "execution_count": 45,
   "id": "e8cf3d65-6189-4da1-9dd9-b582b85ef0e2",
   "metadata": {},
   "outputs": [
    {
     "data": {
      "text/plain": [
       "array(['Manual_FWD', 'Manual_RWD', 'Automatic_FWD', 'Automatic_AWD',\n",
       "       'Automatic_RWD', 'Manual_AWD'], dtype=object)"
      ]
     },
     "execution_count": 45,
     "metadata": {},
     "output_type": "execute_result"
    }
   ],
   "source": [
    "df['Transmission_Drivetrain'].unique()"
   ]
  },
  {
   "cell_type": "code",
   "execution_count": 46,
   "id": "56fbec79-b6f0-4a52-bb09-c1ffc941bb3a",
   "metadata": {},
   "outputs": [
    {
     "data": {
      "text/plain": [
       "Transmission_Drivetrain\n",
       "Manual_FWD       1001\n",
       "Automatic_FWD     465\n",
       "Automatic_AWD     238\n",
       "Automatic_RWD     223\n",
       "Manual_RWD         98\n",
       "Manual_AWD         34\n",
       "Name: count, dtype: int64"
      ]
     },
     "execution_count": 46,
     "metadata": {},
     "output_type": "execute_result"
    }
   ],
   "source": [
    "df['Transmission_Drivetrain'].value_counts()"
   ]
  },
  {
   "cell_type": "code",
   "execution_count": 47,
   "id": "581ed595-5196-4573-812b-5c600b7cb8ec",
   "metadata": {},
   "outputs": [
    {
     "data": {
      "text/plain": [
       "<Axes: xlabel='Transmission_Drivetrain'>"
      ]
     },
     "execution_count": 47,
     "metadata": {},
     "output_type": "execute_result"
    },
    {
     "data": {
      "image/png": "[encoded data removed]",
      "text/plain": [
       "<Figure size 640x480 with 1 Axes>"
      ]
     },
     "metadata": {},
     "output_type": "display_data"
    }
   ],
   "source": [
    "df['Transmission_Drivetrain'].value_counts().plot(kind = 'bar')"
   ]
  },
  {
   "cell_type": "code",
   "execution_count": 48,
   "id": "1f73c21f-702b-4d5c-bf5a-220d57d94ab2",
   "metadata": {},
   "outputs": [
    {
     "data": {
      "image/png": "[encoded data removed]",
      "text/plain": [
       "<Figure size 640x480 with 1 Axes>"
      ]
     },
     "metadata": {},
     "output_type": "display_data"
    }
   ],
   "source": [
    "sns.barplot(x = df['Transmission_Drivetrain'], y = df['Price'])\n",
    "plt.xticks(rotation = \"vertical\")\n",
    "plt.show()"
   ]
  },
  {
   "cell_type": "code",
   "execution_count": 49,
   "id": "f4a55870-377d-4ed6-bb72-d9b7475ea19e",
   "metadata": {},
   "outputs": [],
   "source": [
    "df.drop(columns = ['Transmission','Drivetrain'], inplace = True)"
   ]
  },
  {
   "cell_type": "code",
   "execution_count": 50,
   "id": "393b6432-4ba7-4170-b0f4-73e18ba1deff",
   "metadata": {},
   "outputs": [
    {
     "data": {
      "text/html": [
       "<div>\n",
       "<style scoped>\n",
       "    .dataframe tbody tr th:only-of-type {\n",
       "        vertical-align: middle;\n",
       "    }\n",
       "\n",
       "    .dataframe tbody tr th {\n",
       "        vertical-align: top;\n",
       "    }\n",
       "\n",
       "    .dataframe thead th {\n",
       "        text-align: right;\n",
       "    }\n",
       "</style>\n",
       "<table border=\"1\" class=\"dataframe\">\n",
       "  <thead>\n",
       "    <tr style=\"text-align: right;\">\n",
       "      <th></th>\n",
       "      <th>Make</th>\n",
       "      <th>Price</th>\n",
       "      <th>Year</th>\n",
       "      <th>Kilometer</th>\n",
       "      <th>Fuel Type</th>\n",
       "      <th>Color</th>\n",
       "      <th>Owner</th>\n",
       "      <th>Seller Type</th>\n",
       "      <th>Engine</th>\n",
       "      <th>Max Power</th>\n",
       "      <th>Max Torque</th>\n",
       "      <th>Length</th>\n",
       "      <th>Width</th>\n",
       "      <th>Height</th>\n",
       "      <th>Seating Capacity</th>\n",
       "      <th>Fuel Tank Capacity</th>\n",
       "      <th>Transmission_Drivetrain</th>\n",
       "    </tr>\n",
       "  </thead>\n",
       "  <tbody>\n",
       "    <tr>\n",
       "      <th>0</th>\n",
       "      <td>Honda</td>\n",
       "      <td>505000</td>\n",
       "      <td>2017</td>\n",
       "      <td>87150</td>\n",
       "      <td>Petrol</td>\n",
       "      <td>Grey</td>\n",
       "      <td>First</td>\n",
       "      <td>Corporate</td>\n",
       "      <td>1198 cc</td>\n",
       "      <td>87 bhp @ 6000 rpm</td>\n",
       "      <td>109 Nm @ 4500 rpm</td>\n",
       "      <td>3990.0</td>\n",
       "      <td>1680.0</td>\n",
       "      <td>1505.0</td>\n",
       "      <td>5.0</td>\n",
       "      <td>35.0</td>\n",
       "      <td>Manual_FWD</td>\n",
       "    </tr>\n",
       "    <tr>\n",
       "      <th>1</th>\n",
       "      <td>Maruti Suzuki</td>\n",
       "      <td>450000</td>\n",
       "      <td>2014</td>\n",
       "      <td>75000</td>\n",
       "      <td>Diesel</td>\n",
       "      <td>White</td>\n",
       "      <td>Second</td>\n",
       "      <td>Individual</td>\n",
       "      <td>1248 cc</td>\n",
       "      <td>74 bhp @ 4000 rpm</td>\n",
       "      <td>190 Nm @ 2000 rpm</td>\n",
       "      <td>3995.0</td>\n",
       "      <td>1695.0</td>\n",
       "      <td>1555.0</td>\n",
       "      <td>5.0</td>\n",
       "      <td>42.0</td>\n",
       "      <td>Manual_FWD</td>\n",
       "    </tr>\n",
       "    <tr>\n",
       "      <th>2</th>\n",
       "      <td>Hyundai</td>\n",
       "      <td>220000</td>\n",
       "      <td>2011</td>\n",
       "      <td>67000</td>\n",
       "      <td>Petrol</td>\n",
       "      <td>Maroon</td>\n",
       "      <td>First</td>\n",
       "      <td>Individual</td>\n",
       "      <td>1197 cc</td>\n",
       "      <td>79 bhp @ 6000 rpm</td>\n",
       "      <td>112.7619 Nm @ 4000 rpm</td>\n",
       "      <td>3585.0</td>\n",
       "      <td>1595.0</td>\n",
       "      <td>1550.0</td>\n",
       "      <td>5.0</td>\n",
       "      <td>35.0</td>\n",
       "      <td>Manual_FWD</td>\n",
       "    </tr>\n",
       "    <tr>\n",
       "      <th>3</th>\n",
       "      <td>Toyota</td>\n",
       "      <td>799000</td>\n",
       "      <td>2019</td>\n",
       "      <td>37500</td>\n",
       "      <td>Petrol</td>\n",
       "      <td>Red</td>\n",
       "      <td>First</td>\n",
       "      <td>Individual</td>\n",
       "      <td>1197 cc</td>\n",
       "      <td>82 bhp @ 6000 rpm</td>\n",
       "      <td>113 Nm @ 4200 rpm</td>\n",
       "      <td>3995.0</td>\n",
       "      <td>1745.0</td>\n",
       "      <td>1510.0</td>\n",
       "      <td>5.0</td>\n",
       "      <td>37.0</td>\n",
       "      <td>Manual_FWD</td>\n",
       "    </tr>\n",
       "    <tr>\n",
       "      <th>4</th>\n",
       "      <td>Toyota</td>\n",
       "      <td>1950000</td>\n",
       "      <td>2018</td>\n",
       "      <td>69000</td>\n",
       "      <td>Diesel</td>\n",
       "      <td>Grey</td>\n",
       "      <td>First</td>\n",
       "      <td>Individual</td>\n",
       "      <td>2393 cc</td>\n",
       "      <td>148 bhp @ 3400 rpm</td>\n",
       "      <td>343 Nm @ 1400 rpm</td>\n",
       "      <td>4735.0</td>\n",
       "      <td>1830.0</td>\n",
       "      <td>1795.0</td>\n",
       "      <td>7.0</td>\n",
       "      <td>55.0</td>\n",
       "      <td>Manual_RWD</td>\n",
       "    </tr>\n",
       "  </tbody>\n",
       "</table>\n",
       "</div>"
      ],
      "text/plain": [
       "            Make    Price  Year  Kilometer Fuel Type   Color   Owner  \\\n",
       "0          Honda   505000  2017      87150    Petrol    Grey   First   \n",
       "1  Maruti Suzuki   450000  2014      75000    Diesel   White  Second   \n",
       "2        Hyundai   220000  2011      67000    Petrol  Maroon   First   \n",
       "3         Toyota   799000  2019      37500    Petrol     Red   First   \n",
       "4         Toyota  1950000  2018      69000    Diesel    Grey   First   \n",
       "\n",
       "  Seller Type   Engine           Max Power              Max Torque  Length  \\\n",
       "0   Corporate  1198 cc   87 bhp @ 6000 rpm       109 Nm @ 4500 rpm  3990.0   \n",
       "1  Individual  1248 cc   74 bhp @ 4000 rpm       190 Nm @ 2000 rpm  3995.0   \n",
       "2  Individual  1197 cc   79 bhp @ 6000 rpm  112.7619 Nm @ 4000 rpm  3585.0   \n",
       "3  Individual  1197 cc   82 bhp @ 6000 rpm       113 Nm @ 4200 rpm  3995.0   \n",
       "4  Individual  2393 cc  148 bhp @ 3400 rpm       343 Nm @ 1400 rpm  4735.0   \n",
       "\n",
       "    Width  Height  Seating Capacity  Fuel Tank Capacity  \\\n",
       "0  1680.0  1505.0               5.0                35.0   \n",
       "1  1695.0  1555.0               5.0                42.0   \n",
       "2  1595.0  1550.0               5.0                35.0   \n",
       "3  1745.0  1510.0               5.0                37.0   \n",
       "4  1830.0  1795.0               7.0                55.0   \n",
       "\n",
       "  Transmission_Drivetrain  \n",
       "0              Manual_FWD  \n",
       "1              Manual_FWD  \n",
       "2              Manual_FWD  \n",
       "3              Manual_FWD  \n",
       "4              Manual_RWD  "
      ]
     },
     "execution_count": 50,
     "metadata": {},
     "output_type": "execute_result"
    }
   ],
   "source": [
    "df.head()"
   ]
  },
  {
   "cell_type": "code",
   "execution_count": null,
   "id": "a8daaebb-c5b4-4b14-8211-c1c59a5fcea9",
   "metadata": {},
   "outputs": [],
   "source": []
  },
  {
   "cell_type": "markdown",
   "id": "607b128a-0b9f-45ed-9b0c-5276bd929f52",
   "metadata": {},
   "source": [
    "# Color"
   ]
  },
  {
   "cell_type": "code",
   "execution_count": 51,
   "id": "1a048a8d-418a-42c7-8086-5c48054b4ec4",
   "metadata": {},
   "outputs": [
    {
     "data": {
      "text/plain": [
       "array(['Grey', 'White', 'Maroon', 'Red', 'Blue', 'Orange', 'Silver',\n",
       "       'Brown', 'Black', 'Bronze', 'Gold', 'Beige', 'Green', 'Yellow',\n",
       "       'Purple', 'Others', 'Pink'], dtype=object)"
      ]
     },
     "execution_count": 51,
     "metadata": {},
     "output_type": "execute_result"
    }
   ],
   "source": [
    "df['Color'].unique()"
   ]
  },
  {
   "cell_type": "code",
   "execution_count": 52,
   "id": "a1d6550f-f98f-4ec5-905d-02895348bd52",
   "metadata": {},
   "outputs": [
    {
     "data": {
      "text/plain": [
       "Color\n",
       "White     802\n",
       "Silver    285\n",
       "Grey      220\n",
       "Blue      190\n",
       "Black     163\n",
       "Red       154\n",
       "Brown      82\n",
       "Maroon     37\n",
       "Gold       30\n",
       "Bronze     28\n",
       "Green      17\n",
       "Orange     16\n",
       "Others     12\n",
       "Yellow      9\n",
       "Beige       8\n",
       "Purple      5\n",
       "Pink        1\n",
       "Name: count, dtype: int64"
      ]
     },
     "execution_count": 52,
     "metadata": {},
     "output_type": "execute_result"
    }
   ],
   "source": [
    "df['Color'].value_counts()"
   ]
  },
  {
   "cell_type": "code",
   "execution_count": 53,
   "id": "941d0100-dac0-4b7d-874c-ab0cf717df7f",
   "metadata": {},
   "outputs": [
    {
     "data": {
      "text/plain": [
       "<Axes: xlabel='Color'>"
      ]
     },
     "execution_count": 53,
     "metadata": {},
     "output_type": "execute_result"
    },
    {
     "data": {
      "image/png": "[encoded data removed]",
      "text/plain": [
       "<Figure size 640x480 with 1 Axes>"
      ]
     },
     "metadata": {},
     "output_type": "display_data"
    }
   ],
   "source": [
    "df['Color'].value_counts().plot(kind = 'bar')"
   ]
  },
  {
   "cell_type": "code",
   "execution_count": 54,
   "id": "86c4426c-3e61-4f3d-b4ca-2b1bd989ef08",
   "metadata": {},
   "outputs": [
    {
     "data": {
      "image/png": "[encoded data removed]",
      "text/plain": [
       "<Figure size 640x480 with 1 Axes>"
      ]
     },
     "metadata": {},
     "output_type": "display_data"
    }
   ],
   "source": [
    "sns.barplot(x = df['Color'], y = df['Price'])\n",
    "plt.xticks(rotation = \"vertical\")\n",
    "plt.show()"
   ]
  },
  {
   "cell_type": "markdown",
   "id": "2e2e3fd6-1134-41cf-9f9b-46bd1ebaf91c",
   "metadata": {},
   "source": [
    "# Owner "
   ]
  },
  {
   "cell_type": "code",
   "execution_count": 55,
   "id": "54b7d40a-b21d-48f0-882c-a53926969322",
   "metadata": {},
   "outputs": [
    {
     "data": {
      "text/plain": [
       "array(['First', 'Second', 'Third', 'Fourth', 'UnRegistered Car',\n",
       "       '4 or More'], dtype=object)"
      ]
     },
     "execution_count": 55,
     "metadata": {},
     "output_type": "execute_result"
    }
   ],
   "source": [
    "df['Owner'].unique()"
   ]
  },
  {
   "cell_type": "code",
   "execution_count": 56,
   "id": "be2101a2-5728-40bd-9fe0-07df6786e0ab",
   "metadata": {},
   "outputs": [
    {
     "data": {
      "text/plain": [
       "Owner\n",
       "First               1619\n",
       "Second               373\n",
       "Third                 42\n",
       "UnRegistered Car      21\n",
       "Fourth                 3\n",
       "4 or More              1\n",
       "Name: count, dtype: int64"
      ]
     },
     "execution_count": 56,
     "metadata": {},
     "output_type": "execute_result"
    }
   ],
   "source": [
    "df['Owner'].value_counts()"
   ]
  },
  {
   "cell_type": "code",
   "execution_count": 57,
   "id": "0fa55672-c8f6-4e2f-a68d-6d010b1285fa",
   "metadata": {},
   "outputs": [],
   "source": [
    "df['Owner'] = df['Owner'].str.replace('4 or More', 'Fourth')"
   ]
  },
  {
   "cell_type": "code",
   "execution_count": 58,
   "id": "5cab5beb-86df-4aa0-b112-90e43f2e0f9c",
   "metadata": {},
   "outputs": [],
   "source": [
    "df['Owner'] = df['Owner'].replace({'First': 1, 'Second': 2, 'Third': 3, 'Fourth': 4, 'UnRegistered Car': 0 })"
   ]
  },
  {
   "cell_type": "code",
   "execution_count": 59,
   "id": "b0ece75a-13f2-4d6f-bfc2-f5b9971fbe35",
   "metadata": {},
   "outputs": [
    {
     "data": {
      "text/plain": [
       "Owner\n",
       "1    1619\n",
       "2     373\n",
       "3      42\n",
       "0      21\n",
       "4       4\n",
       "Name: count, dtype: int64"
      ]
     },
     "execution_count": 59,
     "metadata": {},
     "output_type": "execute_result"
    }
   ],
   "source": [
    "df['Owner'].value_counts()"
   ]
  },
  {
   "cell_type": "code",
   "execution_count": 60,
   "id": "11df41d0-1351-4ba5-ab0e-6fb74be78caf",
   "metadata": {},
   "outputs": [
    {
     "data": {
      "text/plain": [
       "<Axes: xlabel='Owner'>"
      ]
     },
     "execution_count": 60,
     "metadata": {},
     "output_type": "execute_result"
    },
    {
     "data": {
      "image/png": "[encoded data removed]",
      "text/plain": [
       "<Figure size 640x480 with 1 Axes>"
      ]
     },
     "metadata": {},
     "output_type": "display_data"
    }
   ],
   "source": [
    "df['Owner'].value_counts().plot(kind = 'bar')"
   ]
  },
  {
   "cell_type": "code",
   "execution_count": 61,
   "id": "f57b7283-955b-4194-b7c5-0c789e069679",
   "metadata": {},
   "outputs": [
    {
     "data": {
      "image/png": "[encoded data removed]",
      "text/plain": [
       "<Figure size 640x480 with 1 Axes>"
      ]
     },
     "metadata": {},
     "output_type": "display_data"
    }
   ],
   "source": [
    "sns.barplot(x = df['Owner'], y = df['Price'])\n",
    "plt.xticks(rotation = \"vertical\")\n",
    "plt.show()"
   ]
  },
  {
   "cell_type": "markdown",
   "id": "89820c8d-cd64-4f23-851c-132b9388696e",
   "metadata": {},
   "source": [
    "# Seller Type"
   ]
  },
  {
   "cell_type": "code",
   "execution_count": 62,
   "id": "3b6f2742-b224-4879-ad15-92a985a7003b",
   "metadata": {},
   "outputs": [
    {
     "data": {
      "text/plain": [
       "array(['Corporate', 'Individual', 'Commercial Registration'], dtype=object)"
      ]
     },
     "execution_count": 62,
     "metadata": {},
     "output_type": "execute_result"
    }
   ],
   "source": [
    "df['Seller Type'].unique()"
   ]
  },
  {
   "cell_type": "code",
   "execution_count": 63,
   "id": "c0f11aab-b614-4f02-bd3c-61e2af54a34e",
   "metadata": {},
   "outputs": [
    {
     "data": {
      "text/plain": [
       "Seller Type\n",
       "Individual                 1997\n",
       "Corporate                    57\n",
       "Commercial Registration       5\n",
       "Name: count, dtype: int64"
      ]
     },
     "execution_count": 63,
     "metadata": {},
     "output_type": "execute_result"
    }
   ],
   "source": [
    "df['Seller Type'].value_counts()"
   ]
  },
  {
   "cell_type": "code",
   "execution_count": 64,
   "id": "e464d825-046a-43f8-9cd7-7eb9ea001036",
   "metadata": {},
   "outputs": [
    {
     "data": {
      "text/plain": [
       "<Axes: xlabel='Seller Type'>"
      ]
     },
     "execution_count": 64,
     "metadata": {},
     "output_type": "execute_result"
    },
    {
     "data": {
      "image/png": "[encoded data removed]",
      "text/plain": [
       "<Figure size 640x480 with 1 Axes>"
      ]
     },
     "metadata": {},
     "output_type": "display_data"
    }
   ],
   "source": [
    "df['Seller Type'].value_counts().plot(kind = 'bar')"
   ]
  },
  {
   "cell_type": "code",
   "execution_count": 65,
   "id": "3a08ffce-cec9-415a-98e0-58d5c1cfba80",
   "metadata": {},
   "outputs": [
    {
     "data": {
      "image/png": "[encoded data removed]",
      "text/plain": [
       "<Figure size 640x480 with 1 Axes>"
      ]
     },
     "metadata": {},
     "output_type": "display_data"
    }
   ],
   "source": [
    "sns.barplot(x = df['Seller Type'], y = df['Price'])\n",
    "plt.xticks(rotation = \"vertical\")\n",
    "plt.show()"
   ]
  },
  {
   "cell_type": "markdown",
   "id": "d38bd060-e3ec-458f-82c4-6df482d8296e",
   "metadata": {},
   "source": [
    "#  Seating Capacity "
   ]
  },
  {
   "cell_type": "code",
   "execution_count": 66,
   "id": "943aa3fe-54d5-403b-ac9b-0cdbd98832f8",
   "metadata": {},
   "outputs": [
    {
     "data": {
      "text/plain": [
       "array([ 5.,  7.,  4., nan,  8.,  2.,  6.])"
      ]
     },
     "execution_count": 66,
     "metadata": {},
     "output_type": "execute_result"
    }
   ],
   "source": [
    "df[\"Seating Capacity\"].unique()"
   ]
  },
  {
   "cell_type": "code",
   "execution_count": 67,
   "id": "e0b0976c-89f1-4910-ac88-e574e3a37600",
   "metadata": {},
   "outputs": [
    {
     "data": {
      "text/plain": [
       "64"
      ]
     },
     "execution_count": 67,
     "metadata": {},
     "output_type": "execute_result"
    }
   ],
   "source": [
    "df[\"Seating Capacity\"].isnull().sum()"
   ]
  },
  {
   "cell_type": "code",
   "execution_count": 68,
   "id": "7657e833-ab9d-4436-a85f-d00ae1d824b1",
   "metadata": {},
   "outputs": [],
   "source": [
    "df[\"Seating Capacity\"].fillna(df[\"Seating Capacity\"].mode()[0], inplace = True)"
   ]
  },
  {
   "cell_type": "code",
   "execution_count": 69,
   "id": "89d70247-d10b-4e96-8c0a-f5066352d603",
   "metadata": {},
   "outputs": [
    {
     "data": {
      "text/plain": [
       "0"
      ]
     },
     "execution_count": 69,
     "metadata": {},
     "output_type": "execute_result"
    }
   ],
   "source": [
    "df[\"Seating Capacity\"].isnull().sum()"
   ]
  },
  {
   "cell_type": "code",
   "execution_count": 70,
   "id": "f73409fc-93e2-4bf9-8943-d8ccd2952c25",
   "metadata": {},
   "outputs": [
    {
     "data": {
      "text/plain": [
       "Seating Capacity\n",
       "5.0    1679\n",
       "7.0     273\n",
       "4.0      42\n",
       "8.0      35\n",
       "6.0      23\n",
       "2.0       7\n",
       "Name: count, dtype: int64"
      ]
     },
     "execution_count": 70,
     "metadata": {},
     "output_type": "execute_result"
    }
   ],
   "source": [
    "df['Seating Capacity'].value_counts()"
   ]
  },
  {
   "cell_type": "code",
   "execution_count": 71,
   "id": "53df9fcb-c467-4754-b32c-5c51415e4bcd",
   "metadata": {},
   "outputs": [
    {
     "data": {
      "text/plain": [
       "<Axes: xlabel='Seating Capacity'>"
      ]
     },
     "execution_count": 71,
     "metadata": {},
     "output_type": "execute_result"
    },
    {
     "data": {
      "image/png": "[encoded data removed]",
      "text/plain": [
       "<Figure size 640x480 with 1 Axes>"
      ]
     },
     "metadata": {},
     "output_type": "display_data"
    }
   ],
   "source": [
    "df['Seating Capacity'].value_counts().plot(kind = 'bar')"
   ]
  },
  {
   "cell_type": "code",
   "execution_count": 72,
   "id": "834c9c54-5551-4cd1-b50c-a185e4ccf978",
   "metadata": {},
   "outputs": [
    {
     "data": {
      "image/png": "[encoded data removed]",
      "text/plain": [
       "<Figure size 640x480 with 1 Axes>"
      ]
     },
     "metadata": {},
     "output_type": "display_data"
    }
   ],
   "source": [
    "sns.barplot(x = df['Seating Capacity'], y = df['Price'])\n",
    "plt.xticks(rotation = \"vertical\")\n",
    "plt.show()"
   ]
  },
  {
   "cell_type": "code",
   "execution_count": 73,
   "id": "6ff0e373-295e-485e-9047-a6aa3cf29013",
   "metadata": {},
   "outputs": [],
   "source": [
    "df['Seating Capacity'] = df['Seating Capacity'].astype(int)"
   ]
  },
  {
   "cell_type": "code",
   "execution_count": 74,
   "id": "89b9d3ed-33cc-4986-b9d9-f1fa98c9aeac",
   "metadata": {},
   "outputs": [
    {
     "name": "stdout",
     "output_type": "stream",
     "text": [
      "<class 'pandas.core.frame.DataFrame'>\n",
      "RangeIndex: 2059 entries, 0 to 2058\n",
      "Data columns (total 17 columns):\n",
      " #   Column                   Non-Null Count  Dtype  \n",
      "---  ------                   --------------  -----  \n",
      " 0   Make                     2059 non-null   object \n",
      " 1   Price                    2059 non-null   int64  \n",
      " 2   Year                     2059 non-null   int32  \n",
      " 3   Kilometer                2059 non-null   int64  \n",
      " 4   Fuel Type                2059 non-null   object \n",
      " 5   Color                    2059 non-null   object \n",
      " 6   Owner                    2059 non-null   int64  \n",
      " 7   Seller Type              2059 non-null   object \n",
      " 8   Engine                   1979 non-null   object \n",
      " 9   Max Power                1979 non-null   object \n",
      " 10  Max Torque               1979 non-null   object \n",
      " 11  Length                   1995 non-null   float64\n",
      " 12  Width                    1995 non-null   float64\n",
      " 13  Height                   1995 non-null   float64\n",
      " 14  Seating Capacity         2059 non-null   int32  \n",
      " 15  Fuel Tank Capacity       1946 non-null   float64\n",
      " 16  Transmission_Drivetrain  2059 non-null   object \n",
      "dtypes: float64(4), int32(2), int64(3), object(8)\n",
      "memory usage: 257.5+ KB\n"
     ]
    }
   ],
   "source": [
    "df.info()"
   ]
  },
  {
   "cell_type": "markdown",
   "id": "5bd4fa1d-5a2e-4af4-adb2-c7031c57826e",
   "metadata": {},
   "source": [
    "# Kilometer"
   ]
  },
  {
   "cell_type": "code",
   "execution_count": 75,
   "id": "c1d6df2a-02c9-40cf-9b7e-c693081761ea",
   "metadata": {},
   "outputs": [
    {
     "data": {
      "text/plain": [
       "array([  87150,   75000,   67000,   37500,   69000,   73315,   47000,\n",
       "         56000,   85000,   20281,   22541,   30672,   20856,   41417,\n",
       "         11471,    3583,   21365,   30777,   60125,    2169,   60240,\n",
       "         13772,   27464,   47377,   23086,   36313,   39276,   47752,\n",
       "         27963,   24013,   66000,   28000,   72000,   27069,   43000,\n",
       "         71000,   45600,   60000,  105101,   45000,   34105,   68397,\n",
       "         65000,   27469,   41058,   51330,   45969,   66602,   57983,\n",
       "         11183,   46301,   34867,   43634,    9512,   11293,   78000,\n",
       "         50374,   15900,   64000,   24000,   40310,   69700,   74073,\n",
       "         73000,  130000,   50000,   40500,   49013,   64983,   92270,\n",
       "        110000,   10000,   51500,   35000,   61518,   34000,   36058,\n",
       "         88000,   98112,   58000,   92355,   16652,   76584,   42500,\n",
       "         70000,   84700,   83400,    2766,   68766,   16339,   63882,\n",
       "         28732,   51349,   61866,   29401,   98580,    8000,   31348,\n",
       "         28851,   38175,    8519,   48000,  143000,   39000,   62000,\n",
       "         48500,   82000,   40910,   10290,   10530,   61900,   57402,\n",
       "         57000,   87500,   16000,   18000,   10700,   16282,   72019,\n",
       "        195000,   92170,   55221,   25000,   58888,       1,   23500,\n",
       "         68000,   29096,   61223,   86000,   87000,   79287,   47009,\n",
       "         48945,   17000,   55000,   38779,    6000,   46000,   23103,\n",
       "         27000,    9576,    1942,  119300,   98000,   61400,   87693,\n",
       "         31000,   75210,   15000,   45350,   68189,   33000,   83000,\n",
       "        211000,   48600,    5790,   32000,   65433,   87230,   38258,\n",
       "         56881,   76000,   60514,   71141,   40937,   37000,   86999,\n",
       "         70200,   64800,   76345,   40564,   98500,   46807,   81000,\n",
       "         13716,   89000,   13000,   38000,   25500,   44724,   24549,\n",
       "         97000,    7800,   20000,   13594,   43037,   26000,  115000,\n",
       "          8700,   41736,   40000,  160000,   11000,   24690,  117000,\n",
       "         95000,  107000,    8922,   47800,   68758,    7500,   22402,\n",
       "         12382,   61000,   90868,   22010,   75500,   39586,   33647,\n",
       "         75576,   57847,   74000,   57300,   80852,   75592,   54420,\n",
       "         39780,   78301,  126535,   37079,   87200,   51000,   90000,\n",
       "         29999,  100472,   19759,    3383,   42000,   62500,   30229,\n",
       "          9000,   26600,  125000,   29135,   50965,   11850,   50623,\n",
       "          1700,   43260,   67738,   93417,   14722,   29000,   60200,\n",
       "        140000,   23798,   49000,  121000,  102000,   48400,   55700,\n",
       "         80000,  104814,   75811,    3813,   64928,   68500,   41296,\n",
       "         72567,    4295,   54000,    8530,   39394,   17881,   48409,\n",
       "         61643,   21000,    1500,   38985,   52000,   29442,   71800,\n",
       "          5000,   65555,     600,  192326,   86006,   99000,   21651,\n",
       "         84000,   44000,   49857,   36000,   87513,    3800,   35123,\n",
       "          2670,  124000,    9889,   51145,  120000,   82900,   56843,\n",
       "          9644,   41624,   82844,   60444,  112000,   54948,   53300,\n",
       "        157662,   78900,  103000,   95785,   92000,   39328,   18625,\n",
       "         93000,   10340,   47706,   13400,   44613,    7000,   23000,\n",
       "         67580,   16205,   14000,  114635,   29221,  158000,   77000,\n",
       "          5500,   65341,    9500,   17904,   65082,   66240,   25275,\n",
       "         67850,   88500,  105000,   55055,   22000,   25704,   55353,\n",
       "         41526,   29434,   80251,   42505,   42200,   57600,  128000,\n",
       "         89445,   64120,   82300,   50197,   44527,   72400,   82200,\n",
       "          7900,   79000,   72600,   42313,   18500,   26200,   14366,\n",
       "        126000,   71700,  114000,   58339,   50667,   72040,    6200,\n",
       "          6900,    2500,   19000,    6400,   41441,   48174,   62591,\n",
       "         48650,   52245,   43297,   44710,   59267,   52236,   15530,\n",
       "          2000,  103890,   12000,   63000,   33828,    4000,  170669,\n",
       "         57654,   41792,   41000,  107021,   57993,   25914,   49235,\n",
       "          4500,   30183,   73190,   13120,   56918,   27657,   30000,\n",
       "        111000,   37600,   81802,   45915,   22224,   53848,  104264,\n",
       "         61159,   57400,   13500,   12400,   46721,   41470,  170000,\n",
       "         73265,   68818,   12050,   24100,  185000,    1910,   36978,\n",
       "         18954,   58200,  117048,   43290,  150000,   42079,   62645,\n",
       "         70662,  101347,   36700,  240000,   76529,   37959,    1300,\n",
       "         21696,   58618,   10500,   85641,   41669,   37180,   53512,\n",
       "          4600,   32963,  101000,   50500,   80849,   19868,   30858,\n",
       "         56500,   37003,   53000,   44087,   59000,   48422,   76642,\n",
       "        135000,   14500,   31552,   35134,   62125,   64300,   28600,\n",
       "         69500,    8640,   80500,    5750,   75431,   44876,   95610,\n",
       "         53693,   65494,   53807,   67546,   37100,   89059,   58146,\n",
       "         20500,    3826,    8499,   61181,    9232,   72542,   42601,\n",
       "        106223,   39850,   96095,   12768,   12321,   65100,  118000,\n",
       "         26807,   53929,   49580,   15780,   40031,   50800,    3000,\n",
       "          3500,  107879,   31100,    9400,   15507,  145000,   47721,\n",
       "         95315,   11874,   51800,  155000,   45326,   28079,   15529,\n",
       "         43200,   29386,   18105,  125372,  100000,   65001,   42533,\n",
       "         34400,    8800,   19700,    2700,   52890,   72870,   48591,\n",
       "         60888,   20251,   54200,   51292,   19244,   54500,   16785,\n",
       "         42678,   82682,   70500,   57159,   58100,   12749,   83466,\n",
       "         60921,   34736,   14400,   77590,   40545,   56852,   75793,\n",
       "         89311,   66794,   35616,   11030,   49123,    7942,   52100,\n",
       "         32809,   25700,   17268,   44100,   91840,   95786,   95401,\n",
       "         41273,   65954,   38848,   22700,    9212,   13066,   53241,\n",
       "          1374, 2000000,   27011,   45545,   72782,   16800,   40900,\n",
       "         38700,    7239,   81300,   91460,  133273,   60500,   42855,\n",
       "         72900,   24500,   20690,   47248,   34841,   58736,   12020,\n",
       "        139000,  122000,   27800,   46027,   23148,   15500,   82445,\n",
       "         75574,   14095,   41086,   87938,   95200,   54556,   68566,\n",
       "         68195,   60116,   82202,   12500,    6300,   25862,   83985,\n",
       "         74237,   52303,   42356,   26894,   98352,   31059,   44153,\n",
       "         32368,   49422,   75258,   68921,   79800,   94000,   62152,\n",
       "         53610,  101923,   56400,   82567,   68244,   68005,   74797,\n",
       "          7520,   58078,   79081,   11628,   81323,   28513,   52458,\n",
       "         46992,   54440,   64906,   67900,   48144,    7100,   65321,\n",
       "         37093,   37230,   76116,   83359,   14120,   28584,   63200,\n",
       "         71569,   41200,   26357,   33500,    5923,   54154,   35500,\n",
       "         52836,   72114,   27600,   72200,   26497,   20100,  115339,\n",
       "         78362,   60513,   94827,   22120,   54572,   79500,   34228,\n",
       "        141334,   80350,   48200,   20124,   55660,   94580,   90342,\n",
       "          1000,  123000,   47531,  440000,   63088,    2600,   36623,\n",
       "         80121,    1102,   43550,   47874,   87001,  143477,   85900,\n",
       "         69508,   53089,   36597,     500,   52600,   63300,  144933,\n",
       "         32545,   39234,   41215,   16519,   74179,   31056,   49148,\n",
       "        152000,   21894,   63587,   53694,   91100,   76148,  104000,\n",
       "          5600,   58900,  222000,   42152,  158690,   60969,   68320,\n",
       "         85785,   12905,   91000,   84873,   37556,   23952,   44300,\n",
       "         25200,  132683,   50599,   84878,   71063,   69001,   49200,\n",
       "         48568,   66500,   58590,   13092,   57057,   50860,   34908,\n",
       "         30600,   49500,   18800,   50050,   20734,   15200,   42794,\n",
       "         72256,   17300,   43600,   17283,   32005,   18223,   60798,\n",
       "        138000,   84500,       0,   36528,   15087,   32500,    4400,\n",
       "         22346,   23280,  138314,    9900,   51529,   65822,   72100,\n",
       "          7534,   88757,   12136,    2200,  109000,   53580,   23700,\n",
       "         48069,   47981,   71500,   16630,   47255,   18703,    7935,\n",
       "          9355,   34800,   86288,   24003,   49776,   47884,   58424,\n",
       "        925000,   34303,    6600,   13424,   69276,   63651,   71796,\n",
       "         82461,   61109,  135797,   42475,   27239,    2272,   17491,\n",
       "         38674,   38500,   15600,   43323,   94182,    3395,   53213,\n",
       "         75650,   61805,   53376,   65123,   58600,   27900,   12300,\n",
       "         24444,    2610,   40879,   68690,   64418,   10265,  219000,\n",
       "        261236,   33030,   96506,  140987,   54443,   50300,   83555,\n",
       "         27500,    5800,  173000,   96000,   57885,   38091,  127000,\n",
       "         51834,  116592,   21200,      75,   75693,   90300,   60474],\n",
       "      dtype=int64)"
      ]
     },
     "execution_count": 75,
     "metadata": {},
     "output_type": "execute_result"
    }
   ],
   "source": [
    "df['Kilometer'].unique()"
   ]
  },
  {
   "cell_type": "code",
   "execution_count": 76,
   "id": "1ec77157-3e47-49b7-bfac-066a4ef59666",
   "metadata": {},
   "outputs": [
    {
     "data": {
      "text/plain": [
       "<Axes: xlabel='Kilometer', ylabel='Density'>"
      ]
     },
     "execution_count": 76,
     "metadata": {},
     "output_type": "execute_result"
    },
    {
     "data": {
      "image/png": "[encoded data removed]",
      "text/plain": [
       "<Figure size 640x480 with 1 Axes>"
      ]
     },
     "metadata": {},
     "output_type": "display_data"
    }
   ],
   "source": [
    "sns.distplot(df['Kilometer'])"
   ]
  },
  {
   "cell_type": "code",
   "execution_count": 77,
   "id": "cbea1349-d693-482c-bb8c-35101091fb80",
   "metadata": {},
   "outputs": [
    {
     "data": {
      "text/plain": [
       "<Axes: xlabel='Kilometer', ylabel='Price'>"
      ]
     },
     "execution_count": 77,
     "metadata": {},
     "output_type": "execute_result"
    },
    {
     "data": {
      "image/png": "[encoded data removed]",
      "text/plain": [
       "<Figure size 640x480 with 1 Axes>"
      ]
     },
     "metadata": {},
     "output_type": "display_data"
    }
   ],
   "source": [
    "sns.scatterplot(x = df['Kilometer'], y = df['Price'])"
   ]
  },
  {
   "cell_type": "code",
   "execution_count": 79,
   "id": "229022ec-711b-47a3-a193-83015c75c23d",
   "metadata": {},
   "outputs": [
    {
     "data": {
      "text/plain": [
       "-0.15082509072345546"
      ]
     },
     "execution_count": 79,
     "metadata": {},
     "output_type": "execute_result"
    }
   ],
   "source": [
    "df['Kilometer'].corr(df['Price'])"
   ]
  },
  {
   "cell_type": "code",
   "execution_count": 80,
   "id": "7235d122-b501-4f7d-87ff-8a226f764ae7",
   "metadata": {},
   "outputs": [],
   "source": [
    "df.drop(columns = ['Kilometer'], inplace = True)"
   ]
  },
  {
   "cell_type": "markdown",
   "id": "d56ca05a-16ff-4a87-b44b-433b90b51f7b",
   "metadata": {},
   "source": [
    "# Engine"
   ]
  },
  {
   "cell_type": "code",
   "execution_count": 81,
   "id": "5aedf20a-7f5d-4309-b6e4-ff6067fd439f",
   "metadata": {},
   "outputs": [
    {
     "data": {
      "text/plain": [
       "array(['1198 cc', '1248 cc', '1197 cc', '2393 cc', '1373 cc', '1991 cc',\n",
       "       '1995 cc', '1798 cc', '1461 cc', '999 cc', '1462 cc', '1956 cc',\n",
       "       '998 cc', '796 cc', '1591 cc', '1086 cc', '1199 cc', '1582 cc',\n",
       "       nan, '1047 cc', '2143 cc', '1968 cc', '1796 cc', '2498 cc',\n",
       "       '2494 cc', '2179 cc', '1998 cc', '1497 cc', '1196 cc', '2755 cc',\n",
       "       '1799 cc', '1493 cc', '1399 cc', '1498 cc', '1997 cc', '1598 cc',\n",
       "       '2993 cc', '2995 cc', '2982 cc', '1353 cc', '1984 cc', '2967 cc',\n",
       "       '2609 cc', '1950 cc', '1999 cc', '4663 cc', '1451 cc', '2354 cc',\n",
       "       '1396 cc', '2987 cc', '2997 cc', '1336 cc', '4163 cc', '3496 cc',\n",
       "       '799 cc', '2979 cc', '4806 cc', '2996 cc', '1061 cc', '2184 cc',\n",
       "       '2497 cc', '2999 cc', '1948 cc', '3436 cc', '2925 cc', '2489 cc',\n",
       "       '1368 cc', '1797 cc', '1298 cc', '2694 cc', '1186 cc', '1364 cc',\n",
       "       '3498 cc', '3982 cc', '1120 cc', '2523 cc', '1988 cc', '3902 cc',\n",
       "       '624 cc', '2477 cc', '3198 cc', '5204 cc', '814 cc', '2953 cc',\n",
       "       '1496 cc', '1499 cc', '1996 cc', '5461 cc', '1395 cc', '2835 cc',\n",
       "       '2148 cc', '2696 cc', '1794 cc', '1969 cc', '6592 cc', '2199 cc',\n",
       "       '4951 cc', '1495 cc', '2487 cc', '2998 cc', '2198 cc', '2157 cc',\n",
       "       '1595 cc', '1586 cc', '936 cc', '1332 cc', '2400 cc', '793 cc',\n",
       "       '995 cc'], dtype=object)"
      ]
     },
     "execution_count": 81,
     "metadata": {},
     "output_type": "execute_result"
    }
   ],
   "source": [
    "df['Engine'].unique()"
   ]
  },
  {
   "cell_type": "code",
   "execution_count": 82,
   "id": "fc2353fe-8907-4144-a383-079f48892626",
   "metadata": {},
   "outputs": [
    {
     "data": {
      "text/plain": [
       "80"
      ]
     },
     "execution_count": 82,
     "metadata": {},
     "output_type": "execute_result"
    }
   ],
   "source": [
    "df['Engine'].isnull().sum()"
   ]
  },
  {
   "cell_type": "code",
   "execution_count": 83,
   "id": "f77189ff-f7b8-4305-b62f-79b79456e77a",
   "metadata": {},
   "outputs": [],
   "source": [
    "df['Engine'] = df[\"Engine\"].str.extract(r'(\\d+)').astype(float)"
   ]
  },
  {
   "cell_type": "code",
   "execution_count": 84,
   "id": "1c8636d1-5850-49ed-b2b6-390c543fd6df",
   "metadata": {},
   "outputs": [
    {
     "data": {
      "text/plain": [
       "array([1198., 1248., 1197., 2393., 1373., 1991., 1995., 1798., 1461.,\n",
       "        999., 1462., 1956.,  998.,  796., 1591., 1086., 1199., 1582.,\n",
       "         nan, 1047., 2143., 1968., 1796., 2498., 2494., 2179., 1998.,\n",
       "       1497., 1196., 2755., 1799., 1493., 1399., 1498., 1997., 1598.,\n",
       "       2993., 2995., 2982., 1353., 1984., 2967., 2609., 1950., 1999.,\n",
       "       4663., 1451., 2354., 1396., 2987., 2997., 1336., 4163., 3496.,\n",
       "        799., 2979., 4806., 2996., 1061., 2184., 2497., 2999., 1948.,\n",
       "       3436., 2925., 2489., 1368., 1797., 1298., 2694., 1186., 1364.,\n",
       "       3498., 3982., 1120., 2523., 1988., 3902.,  624., 2477., 3198.,\n",
       "       5204.,  814., 2953., 1496., 1499., 1996., 5461., 1395., 2835.,\n",
       "       2148., 2696., 1794., 1969., 6592., 2199., 4951., 1495., 2487.,\n",
       "       2998., 2198., 2157., 1595., 1586.,  936., 1332., 2400.,  793.,\n",
       "        995.])"
      ]
     },
     "execution_count": 84,
     "metadata": {},
     "output_type": "execute_result"
    }
   ],
   "source": [
    "df['Engine'].unique()"
   ]
  },
  {
   "cell_type": "code",
   "execution_count": 85,
   "id": "d572e22d-44dd-456b-9947-280f8d8dede7",
   "metadata": {},
   "outputs": [],
   "source": [
    "df['Engine'].fillna(df['Engine'].mean(), inplace = True)"
   ]
  },
  {
   "cell_type": "code",
   "execution_count": 86,
   "id": "ca2b6704-247b-42b7-a5f2-cd063fb0f422",
   "metadata": {},
   "outputs": [
    {
     "data": {
      "text/plain": [
       "0"
      ]
     },
     "execution_count": 86,
     "metadata": {},
     "output_type": "execute_result"
    }
   ],
   "source": [
    "df['Engine'].isnull().sum()"
   ]
  },
  {
   "cell_type": "code",
   "execution_count": 87,
   "id": "e6250e35-5956-4b9e-92e4-132f19a10d07",
   "metadata": {},
   "outputs": [
    {
     "data": {
      "text/plain": [
       "<Axes: xlabel='Engine', ylabel='Density'>"
      ]
     },
     "execution_count": 87,
     "metadata": {},
     "output_type": "execute_result"
    },
    {
     "data": {
      "image/png": "[encoded data removed]",
      "text/plain": [
       "<Figure size 640x480 with 1 Axes>"
      ]
     },
     "metadata": {},
     "output_type": "display_data"
    }
   ],
   "source": [
    "sns.distplot(df['Engine'])"
   ]
  },
  {
   "cell_type": "code",
   "execution_count": 88,
   "id": "6353bc11-c79c-4d12-b04a-f0d79464b042",
   "metadata": {},
   "outputs": [
    {
     "data": {
      "text/plain": [
       "<Axes: xlabel='Engine', ylabel='Price'>"
      ]
     },
     "execution_count": 88,
     "metadata": {},
     "output_type": "execute_result"
    },
    {
     "data": {
      "image/png": "[encoded data removed]",
      "text/plain": [
       "<Figure size 640x480 with 1 Axes>"
      ]
     },
     "metadata": {},
     "output_type": "display_data"
    }
   ],
   "source": [
    "sns.scatterplot(x = df['Engine'], y = df['Price'])"
   ]
  },
  {
   "cell_type": "markdown",
   "id": "07238f00-092f-4c98-87e7-62c21a772e00",
   "metadata": {},
   "source": [
    "# Fuel Tank Capacity"
   ]
  },
  {
   "cell_type": "code",
   "execution_count": 89,
   "id": "31a87bec-496d-4043-864c-ecb2aa9f8ae8",
   "metadata": {},
   "outputs": [
    {
     "data": {
      "text/plain": [
       "array([ 35. ,  42. ,  37. ,  55. ,  43. ,   nan,  51. ,  50. ,  45. ,\n",
       "        28. ,  32. ,  60. ,  27. ,  40. ,  52. ,  66. ,  70. ,  63. ,\n",
       "        67. ,  57. ,  48. ,  80. ,  64. ,  65. ,  75. ,  59. ,  44. ,\n",
       "        93. ,  58. , 100. ,  95. ,  90. ,  82. , 104. ,  85. ,  56. ,\n",
       "        68. ,  62. ,  66.5,  47. ,  54. ,  78. ,  71. ,  15. , 105. ,\n",
       "        41. ,  77. ,  92. ,  83. ,  73. ,  82.5,  60.9,  67.5,  81. ,\n",
       "        61. ,  38. ])"
      ]
     },
     "execution_count": 89,
     "metadata": {},
     "output_type": "execute_result"
    }
   ],
   "source": [
    "df['Fuel Tank Capacity'].unique()"
   ]
  },
  {
   "cell_type": "code",
   "execution_count": 90,
   "id": "d3919bfd-1e1a-4058-ac79-e0ad23a08e3f",
   "metadata": {},
   "outputs": [
    {
     "data": {
      "text/plain": [
       "113"
      ]
     },
     "execution_count": 90,
     "metadata": {},
     "output_type": "execute_result"
    }
   ],
   "source": [
    "df['Fuel Tank Capacity'].isnull().sum()"
   ]
  },
  {
   "cell_type": "code",
   "execution_count": 91,
   "id": "0f1c8681-20b3-4c3c-ad0d-b028261625ef",
   "metadata": {},
   "outputs": [],
   "source": [
    "df[\"Fuel Tank Capacity\"].fillna(df['Fuel Tank Capacity'].mean(),inplace = True)"
   ]
  },
  {
   "cell_type": "code",
   "execution_count": 92,
   "id": "340e013b-ef8b-4426-8bd1-fc1fde76308f",
   "metadata": {},
   "outputs": [
    {
     "data": {
      "text/plain": [
       "0"
      ]
     },
     "execution_count": 92,
     "metadata": {},
     "output_type": "execute_result"
    }
   ],
   "source": [
    "df['Fuel Tank Capacity'].isnull().sum()"
   ]
  },
  {
   "cell_type": "code",
   "execution_count": 93,
   "id": "e7ec4a34-7406-4c4a-bd49-4079fc57e936",
   "metadata": {},
   "outputs": [
    {
     "data": {
      "text/plain": [
       "array([ 35.        ,  42.        ,  37.        ,  55.        ,\n",
       "        43.        ,  52.00220966,  51.        ,  50.        ,\n",
       "        45.        ,  28.        ,  32.        ,  60.        ,\n",
       "        27.        ,  40.        ,  52.        ,  66.        ,\n",
       "        70.        ,  63.        ,  67.        ,  57.        ,\n",
       "        48.        ,  80.        ,  64.        ,  65.        ,\n",
       "        75.        ,  59.        ,  44.        ,  93.        ,\n",
       "        58.        , 100.        ,  95.        ,  90.        ,\n",
       "        82.        , 104.        ,  85.        ,  56.        ,\n",
       "        68.        ,  62.        ,  66.5       ,  47.        ,\n",
       "        54.        ,  78.        ,  71.        ,  15.        ,\n",
       "       105.        ,  41.        ,  77.        ,  92.        ,\n",
       "        83.        ,  73.        ,  82.5       ,  60.9       ,\n",
       "        67.5       ,  81.        ,  61.        ,  38.        ])"
      ]
     },
     "execution_count": 93,
     "metadata": {},
     "output_type": "execute_result"
    }
   ],
   "source": [
    "df['Fuel Tank Capacity'].unique()"
   ]
  },
  {
   "cell_type": "code",
   "execution_count": 94,
   "id": "7c3ca22d-7b85-46ad-8949-e07377be4d7f",
   "metadata": {},
   "outputs": [],
   "source": [
    "df['Fuel Tank Capacity'] = df['Fuel Tank Capacity'].astype(int)"
   ]
  },
  {
   "cell_type": "code",
   "execution_count": 95,
   "id": "ec594e7e-61c7-4035-8a8a-7720b6609dc1",
   "metadata": {},
   "outputs": [
    {
     "data": {
      "text/plain": [
       "array([ 35,  42,  37,  55,  43,  52,  51,  50,  45,  28,  32,  60,  27,\n",
       "        40,  66,  70,  63,  67,  57,  48,  80,  64,  65,  75,  59,  44,\n",
       "        93,  58, 100,  95,  90,  82, 104,  85,  56,  68,  62,  47,  54,\n",
       "        78,  71,  15, 105,  41,  77,  92,  83,  73,  81,  61,  38])"
      ]
     },
     "execution_count": 95,
     "metadata": {},
     "output_type": "execute_result"
    }
   ],
   "source": [
    "df['Fuel Tank Capacity'].unique()"
   ]
  },
  {
   "cell_type": "markdown",
   "id": "3d89b020-3249-4413-9e33-23050293dcf3",
   "metadata": {},
   "source": [
    "## Length "
   ]
  },
  {
   "cell_type": "code",
   "execution_count": 96,
   "id": "7ed34b16-7ef4-456c-9deb-50e22449db84",
   "metadata": {},
   "outputs": [
    {
     "data": {
      "text/plain": [
       "64"
      ]
     },
     "execution_count": 96,
     "metadata": {},
     "output_type": "execute_result"
    }
   ],
   "source": [
    "df['Length'].isnull().sum()"
   ]
  },
  {
   "cell_type": "code",
   "execution_count": 97,
   "id": "fe32a0aa-3eaa-49f0-93f2-10b031daa722",
   "metadata": {},
   "outputs": [],
   "source": [
    "df['Length'].fillna(df['Length'].mean(), inplace = True)"
   ]
  },
  {
   "cell_type": "code",
   "execution_count": 98,
   "id": "34f8ce35-eb8f-4231-9623-219d2b02122b",
   "metadata": {},
   "outputs": [
    {
     "data": {
      "text/plain": [
       "0"
      ]
     },
     "execution_count": 98,
     "metadata": {},
     "output_type": "execute_result"
    }
   ],
   "source": [
    "df['Length'].isnull().sum()"
   ]
  },
  {
   "cell_type": "markdown",
   "id": "f55cb961-de43-47e6-bb0e-4f7cbf0223c8",
   "metadata": {},
   "source": [
    "## Width "
   ]
  },
  {
   "cell_type": "code",
   "execution_count": 99,
   "id": "542bebb6-91c0-4aa1-8539-a7c21d183d2a",
   "metadata": {},
   "outputs": [
    {
     "data": {
      "text/plain": [
       "64"
      ]
     },
     "execution_count": 99,
     "metadata": {},
     "output_type": "execute_result"
    }
   ],
   "source": [
    "df['Width'].isnull().sum()"
   ]
  },
  {
   "cell_type": "code",
   "execution_count": 100,
   "id": "31270632-4c1e-4be9-8ce1-8e22a168941b",
   "metadata": {},
   "outputs": [],
   "source": [
    "df['Width'].fillna(df['Width'].mean(), inplace = True)"
   ]
  },
  {
   "cell_type": "code",
   "execution_count": 101,
   "id": "5a513641-27c4-4ae7-99d9-422a63ce30e9",
   "metadata": {},
   "outputs": [
    {
     "data": {
      "text/plain": [
       "0"
      ]
     },
     "execution_count": 101,
     "metadata": {},
     "output_type": "execute_result"
    }
   ],
   "source": [
    "df['Width'].isnull().sum()"
   ]
  },
  {
   "cell_type": "markdown",
   "id": "08c63010-b4c5-4c55-aa4f-981c6bd76722",
   "metadata": {},
   "source": [
    "## Height"
   ]
  },
  {
   "cell_type": "code",
   "execution_count": 102,
   "id": "626bf5a0-086f-4271-aaee-0d9ae7c271fd",
   "metadata": {},
   "outputs": [
    {
     "data": {
      "text/plain": [
       "64"
      ]
     },
     "execution_count": 102,
     "metadata": {},
     "output_type": "execute_result"
    }
   ],
   "source": [
    "df['Height'].isnull().sum()"
   ]
  },
  {
   "cell_type": "code",
   "execution_count": 103,
   "id": "cc908c62-ceb1-4230-b8b3-9914c2b9f88b",
   "metadata": {},
   "outputs": [],
   "source": [
    "df['Height'].fillna(df['Height'].mean(), inplace = True)"
   ]
  },
  {
   "cell_type": "code",
   "execution_count": 104,
   "id": "892dfd04-a429-4c84-8064-84f54c609ae3",
   "metadata": {},
   "outputs": [
    {
     "data": {
      "text/plain": [
       "0"
      ]
     },
     "execution_count": 104,
     "metadata": {},
     "output_type": "execute_result"
    }
   ],
   "source": [
    "df['Height'].isnull().sum()"
   ]
  },
  {
   "cell_type": "code",
   "execution_count": 105,
   "id": "5e52e234-29c0-4a7e-8429-25f1443d61aa",
   "metadata": {},
   "outputs": [
    {
     "name": "stdout",
     "output_type": "stream",
     "text": [
      "<class 'pandas.core.frame.DataFrame'>\n",
      "RangeIndex: 2059 entries, 0 to 2058\n",
      "Data columns (total 16 columns):\n",
      " #   Column                   Non-Null Count  Dtype  \n",
      "---  ------                   --------------  -----  \n",
      " 0   Make                     2059 non-null   object \n",
      " 1   Price                    2059 non-null   int64  \n",
      " 2   Year                     2059 non-null   int32  \n",
      " 3   Fuel Type                2059 non-null   object \n",
      " 4   Color                    2059 non-null   object \n",
      " 5   Owner                    2059 non-null   int64  \n",
      " 6   Seller Type              2059 non-null   object \n",
      " 7   Engine                   2059 non-null   float64\n",
      " 8   Max Power                1979 non-null   object \n",
      " 9   Max Torque               1979 non-null   object \n",
      " 10  Length                   2059 non-null   float64\n",
      " 11  Width                    2059 non-null   float64\n",
      " 12  Height                   2059 non-null   float64\n",
      " 13  Seating Capacity         2059 non-null   int32  \n",
      " 14  Fuel Tank Capacity       2059 non-null   int32  \n",
      " 15  Transmission_Drivetrain  2059 non-null   object \n",
      "dtypes: float64(4), int32(3), int64(2), object(7)\n",
      "memory usage: 233.4+ KB\n"
     ]
    }
   ],
   "source": [
    "df.info()"
   ]
  },
  {
   "cell_type": "markdown",
   "id": "425f29c6-0558-4fe5-acc5-19b20ff62ad3",
   "metadata": {},
   "source": [
    "# Max Power"
   ]
  },
  {
   "cell_type": "code",
   "execution_count": 106,
   "id": "d4a8abb3-98bb-46f5-96f5-69b3ffc6bb36",
   "metadata": {},
   "outputs": [
    {
     "data": {
      "text/plain": [
       "array(['87 bhp @ 6000 rpm', '74 bhp @ 4000 rpm', '79 bhp @ 6000 rpm',\n",
       "       '82 bhp @ 6000 rpm', '148 bhp @ 3400 rpm', '91 bhp @ 6000 rpm',\n",
       "       '181 bhp @ 5500 rpm', '188 bhp @ 4000 rpm', '177 bhp @ 5100 rpm',\n",
       "       '84 bhp @ 3750 rpm', '67 bhp @ 5500 rpm', '103 bhp @ 6000 rpm',\n",
       "       '138 bhp @ 3750 rpm', '103 bhp @ 5000 rpm', '67 bhp @ 6000 rpm',\n",
       "       '47 bhp @ 6000 rpm', '122 bhp @ 6400 rpm', '68 bhp @ 5500 rpm',\n",
       "       '118 bhp @ 6000 rpm', '58 bhp @ 6000 rpm', '85 bhp @ 6000 rpm',\n",
       "       '89 bhp @ 6000 rpm', '126 bhp @ 4000 rpm', '124 bhp @ 6000 rpm',\n",
       "       nan, '62 bhp @ 5500 rpm', '84 bhp @ 6000 rpm', '69 bhp @ 4000 rpm',\n",
       "       '168 bhp @ 3000 rpm', '203 bhp @ 4200 rpm', '138 bhp @ 6400 rpm',\n",
       "       '177 bhp @ 4200 rpm', '165@5500', '105 bhp @ 3800 rpm',\n",
       "       '83 bhp @ 6000 rpm', '89 bhp @ 4000 rpm', '169 bhp @ 3750 rpm',\n",
       "       '101 bhp @ 3600 rpm', '190 bhp @ 4000 rpm', '171 bhp @ 3750 rpm',\n",
       "       '120 bhp @ 4000 rpm', '181 bhp @ 5000 rpm', '117 bhp @ 6600 rpm',\n",
       "       '74 bhp @ 4200 rpm', '73 bhp @ 6000 rpm', '184 bhp @ 4000 rpm',\n",
       "       '174 bhp @ 3400 rpm', '130 bhp @ 6300 rpm', '99 bhp @ 4000 rpm',\n",
       "       '141 bhp @ 3500 rpm', '68 bhp @ 4000 rpm', '74 bhp @ 5400 rpm',\n",
       "       '99 bhp @ 3600 rpm', '179 bhp @ 6000 rpm', '150 bhp @ 5000 rpm',\n",
       "       '207@4200', '184 bhp @ 3500 rpm', '103 bhp @ 5250 rpm',\n",
       "       '170 bhp @ 4200 rpm', '202 bhp @ 5700 rpm', '108 bhp @ 3900 rpm',\n",
       "       '58 bhp @ 6200 rpm', '258 bhp @ 4000 rpm', '335 bhp @ 5300 rpm',\n",
       "       '241 bhp @ 5500 rpm', '121 bhp @ 6300 rpm', '177 bhp @ 3750 rpm',\n",
       "       '115 bhp @ 3750 rpm', '118@6600', '204 bhp @ 4200 rpm',\n",
       "       '169 bhp @ 3600 rpm', '104 bhp @ 5250 rpm', '63@5500',\n",
       "       '168 bhp @ 3750 rpm', '81 bhp @ 6000 rpm', '138 bhp @ 6000 rpm',\n",
       "       '188 bhp @ 4200 rpm', '245 bhp @ 2910 rpm', '67 bhp @ 6200 rpm',\n",
       "       '116@3800', '248 bhp @ 5000 rpm', '105 bhp @ 5600 rpm',\n",
       "       '190 bhp @ 3800 rpm', '121 bhp @ 3500 rpm', '113 bhp @ 4000 rpm',\n",
       "       '192 bhp @ 3800 rpm', '177 bhp @ 4000 rpm', '201 bhp @ 3800 rpm',\n",
       "       '453 bhp @ 5250 rpm', '141 bhp @ 5000 rpm', '108 bhp @ 6000 rpm',\n",
       "       '152@6000', '105 bhp @ 5250 rpm', '103 bhp @ 4400 rpm',\n",
       "       '153 bhp @ 3750 rpm', '134 bhp @ 3600 rpm', '68@6200',\n",
       "       '99 bhp @ 3750 rpm', '241 bhp @ 3800 rpm', '204 bhp @ 3800 rpm',\n",
       "       '75@4000', '102@5600', '174 bhp @ 4200 rpm', '234@3800',\n",
       "       '150 bhp @ 3500 rpm', '186 bhp @ 5600 rpm', '231@3800',\n",
       "       '254 bhp @ 3600 rpm', '109 bhp @ 5000 rpm', '108 bhp @ 5000 rpm',\n",
       "       '104 bhp @ 5200 rpm', '444 bhp @ 8250 rpm', '272 bhp @ 6000 rpm',\n",
       "       '53 bhp @ 5678 rpm', '180 bhp @ 4000 rpm', '140 bhp @ 3750 rpm',\n",
       "       '172 bhp @ 3400 rpm', '275 bhp @ 4000 rpm', '500 bhp @ 6500 rpm',\n",
       "       '171@3600', '58 bhp @ 5500 rpm', '362 bhp @ 5500 rpm',\n",
       "       '296 bhp @ 5500 rpm', '67@6200', '245 bhp @ 4400 rpm',\n",
       "       '130 bhp @ 3750 rpm', '148 bhp @ 4000 rpm', '177@4000',\n",
       "       '174 bhp @ 3600 rpm', '80@5200', '255 bhp @ 3400 rpm', '90@4300',\n",
       "       '47@6200', '325 bhp @ 7400 rpm', '153 bhp @ 6200 rpm',\n",
       "       '282 bhp @ 3600 rpm', '89 bhp @ 6200 rpm', '188 bhp @ 3500 rpm',\n",
       "       '95@3600', '160 bhp @ 5500 rpm', '89 bhp @ 3750 rpm',\n",
       "       '248 bhp @ 5200 rpm', '138 bhp @ 4000 rpm', '262 bhp @ 4000 rpm',\n",
       "       '147 bhp @ 6500 rpm', '87@6000', '90@6000', '119 bhp @ 6600 rpm',\n",
       "       '164 bhp @ 5200 rpm', '208 bhp @ 4300 rpm', '118 bhp @ 5500 rpm',\n",
       "       '181 bhp @ 5800 rpm', '68 bhp @ 6000 rpm', '120@4000', '136@5600',\n",
       "       '67 bhp @ 3800 rpm', '99 bhp @ 5000 rpm', '68 bhp @ 6200 rpm',\n",
       "       '272 bhp @ 6300 rpm', '114 bhp @ 4000 rpm', '113 bhp @ 6300 rpm',\n",
       "       '105 bhp @ 4400 rpm', '118 bhp @ 6600 rpm', '70 bhp @ 6250 rpm',\n",
       "       '204@6100', '463 bhp @ 5250 rpm', '136 bhp @ 3200 rpm',\n",
       "       '71 bhp @ 4000 rpm', '59@6200', '154 bhp @ 4000 rpm', '112 bhp @',\n",
       "       '75 bhp @ 3200 rpm', '295 bhp @ 6500 rpm', '120@5500',\n",
       "       '241 bhp @ 4200 rpm', '100 bhp @ 3750 rpm', '660 bhp @ 8000 rpm',\n",
       "       '141 bhp @ 4000 rpm', '190 bhp @ 3500 rpm', '35@5250',\n",
       "       '176 bhp @ 4000 rpm', '197 bhp @ 3000 rpm', '67 bhp @ 5000 rpm',\n",
       "       '114 bhp @ 6300 rpm', '602 bhp @ 8250 rpm', '55 bhp @ 5500 rpm',\n",
       "       '154 bhp @ 3200 rpm', '182 bhp @ 4000 rpm', '80 bhp @ 5600 rpm',\n",
       "       '118 bhp @ 3750 rpm', '75 bhp @ 6200 rpm', '109 bhp @ 6300 rpm',\n",
       "       '326 bhp @ 3600 rpm', '116 bhp @ 6600 rpm', '258 bhp @ 3600 rpm',\n",
       "       '108 bhp @ 3750 rpm', '122@4000', '215 bhp @ 4000 rpm',\n",
       "       '100 bhp @ 3600 rpm', '368 bhp @ 6300 rpm', '194 bhp @ 5800 rpm',\n",
       "       '244 bhp @ 4000 rpm', '108 bhp @ 4000 rpm', '148 bhp @ 5000 rpm',\n",
       "       '194 bhp @ 5500 rpm', '56@5500', '182 bhp @ 3500 rpm', '171 @3600',\n",
       "       '128 bhp @ 4000 rpm', '335 bhp @ 5200 rpm', '189 bhp @ 5000 rpm',\n",
       "       '76 bhp @ 6000 rpm', '255 bhp @ 3600 rpm', '157 bhp @ 6500 rpm',\n",
       "       '94 bhp @ 6000 rpm', '184 bhp @ 5500 rpm', '201 bhp @ 5800 rpm',\n",
       "       '289 bhp @ 4000 rpm', '170 bhp @ 3800 rpm', '164 bhp @ 3800 rpm',\n",
       "       '142@4000', '79 bhp @ 3600 rpm', '87 bhp @ 6300 rpm',\n",
       "       '94 bhp @ 4000 rpm', '70 bhp @ 3600 rpm', '178 bhp @ 5100 rpm',\n",
       "       '118 bhp @ 4000 rpm', '90 bhp @ 5600 rpm', '245 bhp @ 4000 rpm',\n",
       "       '150@4000', '189 bhp @', '170@3700', '231 bhp @ 3000 rpm',\n",
       "       '85 bhp @ 3750 rpm', '121 bhp @ 6500 rpm', '177 bhp @ 4500 rpm',\n",
       "       '335 bhp @ 6500 rpm', '245 bhp @ 5500 rpm', '68 bhp @ 3600 rpm',\n",
       "       '147 bhp @ 3400 rpm', '272@6000', '64@6200', '218@4000',\n",
       "       '217 bhp @ 4400 rpm', '265 bhp @ 4000 rpm', '87 bhp @ 3800 rpm',\n",
       "       '46 bhp @ 6200 rpm', '132@6000', '241 bhp @ 5000 rpm',\n",
       "       '235 bhp @ 4250 rpm', '168 bhp @ 3500 rpm', '162 bhp @ 4000 rpm',\n",
       "       '100@5500', '71 bhp @ 6250 rpm', '75 bhp @ 4000 rpm',\n",
       "       '241 bhp @ 4000 rpm', '570 bhp @ 5250 rpm', '89 bhp @ 4200 rpm',\n",
       "       '194 bhp @ 3800 rpm', '194 bhp @ 5700 rpm', '114 bhp @ 5000 rpm',\n",
       "       '195 bhp @ 4000 rpm', '105@3800', '396 bhp @ 6500 rpm',\n",
       "       '39 bhp @ 6200 rpm', '158 bhp @ 4500 rpm', '165 bhp @ 3500 rpm',\n",
       "       '349 bhp @ 5400 rpm', '150 bhp @ 6200 rpm', '94 bhp @ 5500 rpm',\n",
       "       '176 bhp @ 5700 rpm', '189 bhp @ 4400 rpm', '72 bhp @ 6000 rpm',\n",
       "       '106 bhp @ 6000 rpm', '237 bhp @ 4000 rpm', '68@4000',\n",
       "       '115 bhp @ 4700 rpm', '271 bhp @ 4000 rpm', '335 bhp @ 5000 rpm',\n",
       "       '260 bhp @ 4000 rpm', '161 bhp @ 5500 rpm', '335 bhp @ 5500 rpm',\n",
       "       '141 bhp @ 4200 rpm', '90@4000', '158 bhp @ 3200 rpm', '69@4000',\n",
       "       '121 bhp @ 6400 rpm', '67@5500', '225 bhp @ 4000 rpm',\n",
       "       '48 bhp @ 6000 rpm', '247 bhp @ 4000 rpm', '98 bhp @ 3600 rpm',\n",
       "       '178 bhp @ 4000 rpm', '197 bhp @ 3800 rpm', '168 bhp @ 3400 rpm',\n",
       "       '137 bhp @ 3750 rpm', '121 bhp @ 5000 rpm', '385 bhp @ 5500 rpm',\n",
       "       '188 bhp @ 3800 rpm', '190 bhp @ 4200 rpm', '63 bhp @ 4000 rpm',\n",
       "       '187 bhp @ 4250 rpm', '109 bhp @ 4000 rpm', '102@5500', '240@4000',\n",
       "       '79 bhp @ 5600 rpm', '63 bhp @ 3200 rpm', '58 bhp @ 4000 rpm',\n",
       "       '187 bhp @ 5000 rpm', '178 bhp @ 6500 rpm', '73 bhp @ 4000 rpm',\n",
       "       '268 bhp @ 5150 rpm', '110 bhp @ 6300 rpm', '227 bhp @ 5500 rpm',\n",
       "       '161 bhp @ 4200 rpm', '67.7 bhp @ 6200 rpm', '190 bhp @ 4250 rpm',\n",
       "       '228 bhp @ 5200 rpm', '232 bhp @ 4250 rpm', '46 bhp @ 3500 rpm',\n",
       "       '58@6000', '235 bhp @ 4000 rpm', '261 bhp @ 4000 rpm',\n",
       "       '362 bhp @ 5250 rpm', '62 bhp @ 5400 rpm', '154 bhp @ 6500 rpm',\n",
       "       '120 bhp @ 5000 rpm', '78@5500', '77 bhp @ 3750 rpm',\n",
       "       '98 bhp @ 6000 rpm', '236 bhp @ 5500 rpm', '198@4000',\n",
       "       '247 bhp @ 5500 rpm', '197 bhp @ 5000 rpm', '70 bhp @ 4000 rpm',\n",
       "       '329 bhp @ 5250 rpm'], dtype=object)"
      ]
     },
     "execution_count": 106,
     "metadata": {},
     "output_type": "execute_result"
    }
   ],
   "source": [
    "df['Max Power'].unique()"
   ]
  },
  {
   "cell_type": "code",
   "execution_count": 107,
   "id": "28cce980-c430-47f2-89ba-a8fd554d56c1",
   "metadata": {},
   "outputs": [],
   "source": [
    "df['Max Power(bhp)'] = (df['Max Power'].str.extract(r'(\\d+\\.?\\d*)\\s*bhp|(\\d+\\.?\\d*)@', expand=True).bfill(axis=1)[0].astype(float).apply(np.floor))\n",
    "df['Max Power(rpm)'] = (df['Max Power'].str.extract(r'@\\s*(\\d+)\\s*rpm|@(\\d+)', expand=True).bfill(axis=1)[0].astype(float, errors='ignore'))"
   ]
  },
  {
   "cell_type": "code",
   "execution_count": 108,
   "id": "ddb7b17e-18bf-4d91-9fbf-96a1eba1d165",
   "metadata": {},
   "outputs": [],
   "source": [
    "df['Max Power(bhp)'] = df['Max Power(bhp)'].fillna(df['Max Power(bhp)'].mean()).astype(int)\n",
    "df['Max Power(rpm)'] = df['Max Power(rpm)'].fillna(df['Max Power(rpm)'].mean()).astype(int)"
   ]
  },
  {
   "cell_type": "code",
   "execution_count": 109,
   "id": "72bdb20f-a346-4aa9-b70a-05b68814cb07",
   "metadata": {},
   "outputs": [
    {
     "name": "stdout",
     "output_type": "stream",
     "text": [
      "<class 'pandas.core.frame.DataFrame'>\n",
      "RangeIndex: 2059 entries, 0 to 2058\n",
      "Data columns (total 18 columns):\n",
      " #   Column                   Non-Null Count  Dtype  \n",
      "---  ------                   --------------  -----  \n",
      " 0   Make                     2059 non-null   object \n",
      " 1   Price                    2059 non-null   int64  \n",
      " 2   Year                     2059 non-null   int32  \n",
      " 3   Fuel Type                2059 non-null   object \n",
      " 4   Color                    2059 non-null   object \n",
      " 5   Owner                    2059 non-null   int64  \n",
      " 6   Seller Type              2059 non-null   object \n",
      " 7   Engine                   2059 non-null   float64\n",
      " 8   Max Power                1979 non-null   object \n",
      " 9   Max Torque               1979 non-null   object \n",
      " 10  Length                   2059 non-null   float64\n",
      " 11  Width                    2059 non-null   float64\n",
      " 12  Height                   2059 non-null   float64\n",
      " 13  Seating Capacity         2059 non-null   int32  \n",
      " 14  Fuel Tank Capacity       2059 non-null   int32  \n",
      " 15  Transmission_Drivetrain  2059 non-null   object \n",
      " 16  Max Power(bhp)           2059 non-null   int32  \n",
      " 17  Max Power(rpm)           2059 non-null   int32  \n",
      "dtypes: float64(4), int32(5), int64(2), object(7)\n",
      "memory usage: 249.5+ KB\n"
     ]
    }
   ],
   "source": [
    "df.info()"
   ]
  },
  {
   "cell_type": "code",
   "execution_count": 110,
   "id": "00f59f50-abc6-4138-9ba3-cd7b26513060",
   "metadata": {},
   "outputs": [],
   "source": [
    "df.drop(columns = ['Max Power'], inplace = True)"
   ]
  },
  {
   "cell_type": "code",
   "execution_count": 111,
   "id": "c3740663-b9e5-4e77-8820-5c49eb5f2bec",
   "metadata": {},
   "outputs": [
    {
     "name": "stdout",
     "output_type": "stream",
     "text": [
      "<class 'pandas.core.frame.DataFrame'>\n",
      "RangeIndex: 2059 entries, 0 to 2058\n",
      "Data columns (total 17 columns):\n",
      " #   Column                   Non-Null Count  Dtype  \n",
      "---  ------                   --------------  -----  \n",
      " 0   Make                     2059 non-null   object \n",
      " 1   Price                    2059 non-null   int64  \n",
      " 2   Year                     2059 non-null   int32  \n",
      " 3   Fuel Type                2059 non-null   object \n",
      " 4   Color                    2059 non-null   object \n",
      " 5   Owner                    2059 non-null   int64  \n",
      " 6   Seller Type              2059 non-null   object \n",
      " 7   Engine                   2059 non-null   float64\n",
      " 8   Max Torque               1979 non-null   object \n",
      " 9   Length                   2059 non-null   float64\n",
      " 10  Width                    2059 non-null   float64\n",
      " 11  Height                   2059 non-null   float64\n",
      " 12  Seating Capacity         2059 non-null   int32  \n",
      " 13  Fuel Tank Capacity       2059 non-null   int32  \n",
      " 14  Transmission_Drivetrain  2059 non-null   object \n",
      " 15  Max Power(bhp)           2059 non-null   int32  \n",
      " 16  Max Power(rpm)           2059 non-null   int32  \n",
      "dtypes: float64(4), int32(5), int64(2), object(6)\n",
      "memory usage: 233.4+ KB\n"
     ]
    }
   ],
   "source": [
    "df.info()"
   ]
  },
  {
   "cell_type": "markdown",
   "id": "2bf2ca3b-f194-4df5-a1b9-27c2ca490d57",
   "metadata": {},
   "source": [
    "# Max Torque"
   ]
  },
  {
   "cell_type": "code",
   "execution_count": 112,
   "id": "2050eb00-dc1f-4474-9997-02d8ec2ac5bb",
   "metadata": {},
   "outputs": [
    {
     "data": {
      "text/plain": [
       "array(['109 Nm @ 4500 rpm', '190 Nm @ 2000 rpm', '112.7619 Nm @ 4000 rpm',\n",
       "       '113 Nm @ 4200 rpm', '343 Nm @ 1400 rpm', '130 Nm @ 4000 rpm',\n",
       "       '300 Nm @ 1200 rpm', '400 Nm @ 1750 rpm', '250 Nm @ 1250 rpm',\n",
       "       '200 Nm @ 1900 rpm', '115 Nm @ 4000 rpm', '91 Nm @ 4250 rpm',\n",
       "       '138 Nm @ 4400 rpm', '350 Nm @ 1750 rpm', '175 Nm @ 1500 rpm',\n",
       "       '90 Nm @ 3500 rpm', '69 Nm @ 3500 rpm', '154 Nm @ 4850 rpm',\n",
       "       '153 Nm @ 3800 rpm', '99 Nm @ 4500 rpm', '172 Nm @ 1500 rpm',\n",
       "       '78 Nm @ 3500 rpm', '113 Nm @ 4500 rpm', '110 Nm @ 4800 rpm',\n",
       "       '265 Nm @ 1900 rpm', '170 Nm @ 1400 rpm', nan, '96 Nm @ 3000 rpm',\n",
       "       '114 Nm @ 3500 rpm', '140 Nm @ 1800 rpm', '400 Nm @ 1400 rpm',\n",
       "       '260 Nm @ 1500 rpm', '500 Nm @ 1600 rpm', '173 Nm @ 4000 rpm',\n",
       "       '380 Nm @ 1750 rpm', '240@3000', '247 Nm @ 1800 rpm',\n",
       "       '200 Nm @ 1750 rpm', '200 Nm @ 1200 rpm', '290 Nm @ 1800 rpm',\n",
       "       '270 Nm @ 1350 rpm', '145 Nm @ 4600 rpm', '180 Nm @ 2000 rpm',\n",
       "       '101 Nm @ 3000 rpm', '112 Nm @ 4000 rpm', '450 Nm @ 1600 rpm',\n",
       "       '171.62 Nm @ 4300 rpm', '113 Nm @ 4400 rpm', '240 Nm @ 1500 rpm',\n",
       "       '320 Nm @ 1750 rpm', '160 Nm @ 2000 rpm', '110 Nm @ 3750 rpm',\n",
       "       '233 Nm @ 4100 rpm', '320 Nm @ 1500 rpm', '500@1600',\n",
       "       '400 Nm @ 2800 rpm', '270 Nm @ 4500 rpm', '248 Nm @ 2250 rpm',\n",
       "       '77 Nm @ 3500 rpm', '560 Nm @ 1500 rpm', '450 Nm @ 1340 rpm',\n",
       "       '370 Nm @ 1300 rpm', '158 Nm @ 4200 rpm', '300 Nm @ 1500 rpm',\n",
       "       '300 Nm @ 1250 rpm', '146@4600', '360 Nm @ 1400 rpm',\n",
       "       '190 Nm @ 1750 rpm', '89@3000', '114 Nm @ 4000 rpm',\n",
       "       '242 Nm @ 1500 rpm', '600 Nm @ 1500 rpm', '260 Nm @ 1900 rpm',\n",
       "       '277@1700', '370 Nm @ 1600 rpm', '142 Nm @ 4000 rpm',\n",
       "       '151 Nm @ 4850 rpm', '113.796 Nm @ 4000 rpm', '300 Nm @ 1750 rpm',\n",
       "       '250 Nm @ 1500 rpm', '400 Nm @ 1600 rpm', '430 Nm @ 1750 rpm',\n",
       "       '700 Nm @ 1800 rpm', '250 Nm @ 1600 rpm', '144 Nm @ 4400 rpm',\n",
       "       '215@3600', '220 Nm @ 1500 rpm', '360 Nm @ 1750 rpm',\n",
       "       '300 Nm @ 1600 rpm', '90@3500', '205 Nm @ 1750 rpm',\n",
       "       '550 Nm @ 1750 rpm', '280 Nm @ 1800 rpm', '190@2000', '200@1400',\n",
       "       '535@1600', '350 Nm @ 1500 rpm', '285 Nm @ 4000 rpm', '540@1600',\n",
       "       '619 Nm @ 1600 rpm', '219.744 Nm @ 1500 rpm', '175 Nm @ 1750 rpm',\n",
       "       '170 Nm @ 1750 rpm', '153 Nm @ 3750 rpm', '430 Nm @ 4000 rpm',\n",
       "       '350 Nm @ 5000 rpm', '72 Nm @ 4386 rpm', '360 Nm @ 1200 rpm',\n",
       "       '600 Nm @ 2000 rpm', '700 Nm @ 2250 rpm', '343@1400',\n",
       "       '520 Nm @ 2000 rpm', '330 Nm @ 2800 rpm', '113 Nm @ 3300 rpm',\n",
       "       '400 Nm @ 1500 rpm', '84@3500', '330 Nm @ 1600 rpm',\n",
       "       '550 Nm @ 2750 rpm', '400@2000', '380 Nm @ 1800 rpm',\n",
       "       '320 Nm @ 1700 rpm', '111@4000', '620 Nm @ 1600 rpm', '190@3000',\n",
       "       '62@3000', '390 Nm @ 5600 rpm', '192 Nm @ 4000 rpm',\n",
       "       '113 Nm @ 4000 rpm', '600 Nm @ 1600 rpm', '420 Nm @ 1750 rpm',\n",
       "       '220@1400', '250 Nm @ 2500 rpm', '204 Nm @ 2000 rpm',\n",
       "       '350 Nm @ 1450 rpm', '620 Nm @ 1500 rpm', '177 Nm @ 4700 rpm',\n",
       "       '113@4500', '115@4500', '145 Nm @ 4300 rpm', '245 Nm @ 4000 rpm',\n",
       "       '350 Nm @ 1600 rpm', '280 Nm @ 1600 rpm', '95 Nm @ 4000 rpm',\n",
       "       '250@1500', '182@4000', '170 Nm @ 1800 rpm', '152 Nm @ 2200 rpm',\n",
       "       '94 Nm @ 3500 rpm', '345 Nm @ 4500 rpm', '144 Nm @ 4500 rpm',\n",
       "       '102 Nm @ 4000 rpm', '245@5000', '700 Nm @ 2000 rpm',\n",
       "       '320 Nm @ 1600 rpm', '300 Nm @ 1400 rpm', '160 Nm @ 1500 rpm',\n",
       "       '77@3500', '400 Nm @ 1700 rpm', '270 Nm @ 1750 rpm',\n",
       "       '200 Nm @ 1400 rpm', '116@4750', '215 Nm @ 1750 rpm',\n",
       "       '380 Nm @ 1950 rpm', '155 Nm @ 4200 rpm', '170@3500',\n",
       "       '240 Nm @ 1600 rpm', '760 Nm @ 3000 rpm', '340 Nm @ 1750 rpm',\n",
       "       '48@3000', '400 Nm @ 2000 rpm', '470 Nm @ 1750 rpm',\n",
       "       '104 Nm @ 4000 rpm', '560 Nm @ 6500 rpm', '115 Nm @ 4200 rpm',\n",
       "       '75 Nm @ 4000 rpm', '620 Nm @ 2000 rpm', '380 Nm @ 2500 rpm',\n",
       "       '132 Nm @ 3000 rpm', '95 Nm @ 3000 rpm', '140 Nm @ 4400 rpm',\n",
       "       '700 Nm @ 1200 rpm', '146 Nm @ 4800 rpm', '290@1800',\n",
       "       '480 Nm @ 1500 rpm', '230 Nm @ 1500 rpm', '505 Nm @ 4400 rpm',\n",
       "       '240 Nm @ 1850 rpm', '420 Nm @ 1600 rpm', '320 Nm @ 1650 rpm',\n",
       "       '75@4000', '450 Nm @ 1750 rpm', '115 Nm @ 1500 rpm', '343 @1400',\n",
       "       '500 Nm @ 1370 rpm', '280 Nm @ 1350 rpm', '104 Nm @ 4400 rpm',\n",
       "       '191 Nm @ 4500 rpm', '320 Nm @ 1400 rpm', '380 Nm @ 2000 rpm',\n",
       "       '323@2000', '160 Nm @ 1750 rpm', '225 Nm @ 1500 rpm',\n",
       "       '224 Nm @ 1500 rpm', '99.081 Nm @ 4500 rpm', '195 Nm @ 1400 rpm',\n",
       "       '250 Nm @ 150 rpm', '292 Nm @ 2000 rpm', '500 Nm @ 1400 rpm',\n",
       "       '327@2600', '280 Nm @ 1250 rpm', '410@2000', '200 Nm @ 2000 rpm',\n",
       "       '150 Nm @ 4500 rpm', '380 Nm @ 2150 rpm', '450 Nm @ 3500 rpm',\n",
       "       '110 Nm @ 4000 rpm', '365 Nm @ 1500 rpm', '170 Nm @ 2400 rpm',\n",
       "       '350@2400', '402 Nm @ 3000 rpm', '480@1750', '259 Nm @ 1900 rpm',\n",
       "       '320 Nm @ 1450 rpm', '450 Nm @ 1500 rpm', '205 Nm @ 1800 rpm',\n",
       "       '85 Nm @ 3500 rpm', '170@4200', '350@1750', '480 Nm @ 1750 rpm',\n",
       "       '420 Nm @ 2000 rpm', '340 Nm @ 3250 rpm', '99.08 Nm @ 4500 rpm',\n",
       "       '137@4200', '96 Nm @ 3500 rpm', '197 Nm @ 1750 rpm',\n",
       "       '780 Nm @ 1500 rpm', '437 Nm @ 1800 rpm', '210 Nm @ 4200 rpm',\n",
       "       '178 Nm @ 1750 rpm', '436 Nm @ 1800 rpm', '247@1800',\n",
       "       '515 Nm @ 4250 rpm', '54 Nm @ 3000 rpm', '400 Nm @ 2750 rpm',\n",
       "       '480 Nm @ 1360 rpm', '112@4000', '125 Nm @ 3500 rpm',\n",
       "       '221 Nm @ 3600 rpm', '98 Nm @ 3000 rpm', '140 Nm @ 4200 rpm',\n",
       "       '430 Nm @ 1400 rpm', '160@2000', '198 Nm @ 2800 rpm', '220@1750',\n",
       "       '350 Nm @ 1800 rpm', '385 Nm @ 1600 rpm', '84 Nm @ 4500 rpm',\n",
       "       '99@2800', '213 Nm @ 4500 rpm', '689 Nm @ 1800 rpm',\n",
       "       '580 Nm @ 1750 rpm', '320@2000', '440 Nm @ 1750 rpm',\n",
       "       '350 Nm @ 1400 rpm', '319 Nm @ 1500 rpm', '200 Nm @ 1250 rpm',\n",
       "       '520 Nm @ 2500 rpm', '180 Nm @ 1750 rpm', '145@4200', '500@1500',\n",
       "       '104 Nm @ 3100 rpm', '150 Nm @ 1750 rpm', '300 Nm @ 1300 rpm',\n",
       "       '222 Nm @ 4300 rpm', '250 Nm @ 1620 rpm', '400 Nm @ 3000 rpm',\n",
       "       '350 Nm @ 1250 rpm', '380 Nm @ 1200 rpm', '440 Nm @ 1500 rpm',\n",
       "       '125 Nm @ 2000 rpm', '77@4500', '490 Nm @ 1800 rpm', '200@3400',\n",
       "       '500 Nm @ 1800 rpm', '90 Nm @ 4200 rpm', '190 Nm @ 4300 rpm',\n",
       "       '125@2700', '134 Nm @ 4000 rpm', '456@1400', '113 Nm @ 5000 rpm',\n",
       "       '480 Nm @ 1600 rpm'], dtype=object)"
      ]
     },
     "execution_count": 112,
     "metadata": {},
     "output_type": "execute_result"
    }
   ],
   "source": [
    "df['Max Torque'].unique()"
   ]
  },
  {
   "cell_type": "code",
   "execution_count": 113,
   "id": "5663b28f-bfac-40cd-8a7b-d35eb72387b4",
   "metadata": {},
   "outputs": [],
   "source": [
    "df['Max Torque(Nm)'] = (df['Max Torque'].str.extract(r'(\\d+\\.?\\d*)\\s*Nm|(\\d+\\.?\\d*)@', expand=True).bfill(axis=1)[0].astype(float).apply(np.floor))\n",
    "df['Max Torque(rpm)'] = (df['Max Torque'].str.extract(r'@\\s*(\\d+)\\s*rpm|@(\\d+)', expand=True).bfill(axis=1)[0].astype(float, errors='ignore'))"
   ]
  },
  {
   "cell_type": "code",
   "execution_count": 114,
   "id": "0cdd5afd-7d5b-4ad0-8c82-f4ec13096cce",
   "metadata": {},
   "outputs": [],
   "source": [
    "df['Max Torque(Nm)'] = df['Max Torque(Nm)'].fillna(df['Max Torque(Nm)'].mean()).astype(int)\n",
    "df['Max Torque(rpm)'] = df['Max Torque(rpm)'].fillna(df['Max Torque(rpm)'].mean()).astype(int)"
   ]
  },
  {
   "cell_type": "code",
   "execution_count": 115,
   "id": "701002de-a45d-424a-b637-832b2c7ccb01",
   "metadata": {},
   "outputs": [],
   "source": [
    "df.drop(columns = ['Max Torque'], inplace = True)"
   ]
  },
  {
   "cell_type": "code",
   "execution_count": 116,
   "id": "0c12a866-14ac-459e-9f9f-18a645abb161",
   "metadata": {},
   "outputs": [
    {
     "name": "stdout",
     "output_type": "stream",
     "text": [
      "<class 'pandas.core.frame.DataFrame'>\n",
      "RangeIndex: 2059 entries, 0 to 2058\n",
      "Data columns (total 18 columns):\n",
      " #   Column                   Non-Null Count  Dtype  \n",
      "---  ------                   --------------  -----  \n",
      " 0   Make                     2059 non-null   object \n",
      " 1   Price                    2059 non-null   int64  \n",
      " 2   Year                     2059 non-null   int32  \n",
      " 3   Fuel Type                2059 non-null   object \n",
      " 4   Color                    2059 non-null   object \n",
      " 5   Owner                    2059 non-null   int64  \n",
      " 6   Seller Type              2059 non-null   object \n",
      " 7   Engine                   2059 non-null   float64\n",
      " 8   Length                   2059 non-null   float64\n",
      " 9   Width                    2059 non-null   float64\n",
      " 10  Height                   2059 non-null   float64\n",
      " 11  Seating Capacity         2059 non-null   int32  \n",
      " 12  Fuel Tank Capacity       2059 non-null   int32  \n",
      " 13  Transmission_Drivetrain  2059 non-null   object \n",
      " 14  Max Power(bhp)           2059 non-null   int32  \n",
      " 15  Max Power(rpm)           2059 non-null   int32  \n",
      " 16  Max Torque(Nm)           2059 non-null   int32  \n",
      " 17  Max Torque(rpm)          2059 non-null   int32  \n",
      "dtypes: float64(4), int32(7), int64(2), object(5)\n",
      "memory usage: 233.4+ KB\n"
     ]
    }
   ],
   "source": [
    "df.info()"
   ]
  },
  {
   "cell_type": "code",
   "execution_count": 117,
   "id": "32dd91c7-fa55-4d22-9105-8469396cedc3",
   "metadata": {},
   "outputs": [
    {
     "data": {
      "text/plain": [
       "Price                 1.000000\n",
       "Year                  0.311400\n",
       "Owner                -0.068904\n",
       "Engine                0.610509\n",
       "Length                0.552668\n",
       "Width                 0.559870\n",
       "Height                0.074530\n",
       "Seating Capacity     -0.036116\n",
       "Fuel Tank Capacity    0.561976\n",
       "Max Power(bhp)        0.775466\n",
       "Max Power(rpm)       -0.195475\n",
       "Max Torque(Nm)        0.666186\n",
       "Max Torque(rpm)      -0.311669\n",
       "dtype: float64"
      ]
     },
     "execution_count": 117,
     "metadata": {},
     "output_type": "execute_result"
    }
   ],
   "source": [
    "df.select_dtypes(include=['int64', 'float64', 'int32', 'Float32']).corrwith(df['Price'])"
   ]
  },
  {
   "cell_type": "code",
   "execution_count": 119,
   "id": "3d2fe0cc-8371-4887-8f21-1d81971c434d",
   "metadata": {},
   "outputs": [],
   "source": [
    "df.drop(columns = ['Max Power(rpm)', 'Max Torque(rpm)','Seating Capacity', 'Height'], inplace = True)"
   ]
  },
  {
   "cell_type": "code",
   "execution_count": 120,
   "id": "f8ad45cb-a738-4230-9b34-126057fef2a9",
   "metadata": {},
   "outputs": [
    {
     "data": {
      "text/plain": [
       "(2059, 14)"
      ]
     },
     "execution_count": 120,
     "metadata": {},
     "output_type": "execute_result"
    }
   ],
   "source": [
    "df.shape"
   ]
  },
  {
   "cell_type": "code",
   "execution_count": 121,
   "id": "382393b6-52ec-40d1-bccb-c872e5fb2d64",
   "metadata": {},
   "outputs": [
    {
     "data": {
      "text/html": [
       "<div>\n",
       "<style scoped>\n",
       "    .dataframe tbody tr th:only-of-type {\n",
       "        vertical-align: middle;\n",
       "    }\n",
       "\n",
       "    .dataframe tbody tr th {\n",
       "        vertical-align: top;\n",
       "    }\n",
       "\n",
       "    .dataframe thead th {\n",
       "        text-align: right;\n",
       "    }\n",
       "</style>\n",
       "<table border=\"1\" class=\"dataframe\">\n",
       "  <thead>\n",
       "    <tr style=\"text-align: right;\">\n",
       "      <th></th>\n",
       "      <th>Make</th>\n",
       "      <th>Price</th>\n",
       "      <th>Year</th>\n",
       "      <th>Fuel Type</th>\n",
       "      <th>Color</th>\n",
       "      <th>Owner</th>\n",
       "      <th>Seller Type</th>\n",
       "      <th>Engine</th>\n",
       "      <th>Length</th>\n",
       "      <th>Width</th>\n",
       "      <th>Fuel Tank Capacity</th>\n",
       "      <th>Transmission_Drivetrain</th>\n",
       "      <th>Max Power(bhp)</th>\n",
       "      <th>Max Torque(Nm)</th>\n",
       "    </tr>\n",
       "  </thead>\n",
       "  <tbody>\n",
       "    <tr>\n",
       "      <th>0</th>\n",
       "      <td>Honda</td>\n",
       "      <td>505000</td>\n",
       "      <td>2017</td>\n",
       "      <td>Petrol</td>\n",
       "      <td>Grey</td>\n",
       "      <td>1</td>\n",
       "      <td>Corporate</td>\n",
       "      <td>1198.0</td>\n",
       "      <td>3990.0</td>\n",
       "      <td>1680.0</td>\n",
       "      <td>35</td>\n",
       "      <td>Manual_FWD</td>\n",
       "      <td>87</td>\n",
       "      <td>109</td>\n",
       "    </tr>\n",
       "    <tr>\n",
       "      <th>1</th>\n",
       "      <td>Maruti Suzuki</td>\n",
       "      <td>450000</td>\n",
       "      <td>2014</td>\n",
       "      <td>Diesel</td>\n",
       "      <td>White</td>\n",
       "      <td>2</td>\n",
       "      <td>Individual</td>\n",
       "      <td>1248.0</td>\n",
       "      <td>3995.0</td>\n",
       "      <td>1695.0</td>\n",
       "      <td>42</td>\n",
       "      <td>Manual_FWD</td>\n",
       "      <td>74</td>\n",
       "      <td>190</td>\n",
       "    </tr>\n",
       "    <tr>\n",
       "      <th>2</th>\n",
       "      <td>Hyundai</td>\n",
       "      <td>220000</td>\n",
       "      <td>2011</td>\n",
       "      <td>Petrol</td>\n",
       "      <td>Maroon</td>\n",
       "      <td>1</td>\n",
       "      <td>Individual</td>\n",
       "      <td>1197.0</td>\n",
       "      <td>3585.0</td>\n",
       "      <td>1595.0</td>\n",
       "      <td>35</td>\n",
       "      <td>Manual_FWD</td>\n",
       "      <td>79</td>\n",
       "      <td>112</td>\n",
       "    </tr>\n",
       "    <tr>\n",
       "      <th>3</th>\n",
       "      <td>Toyota</td>\n",
       "      <td>799000</td>\n",
       "      <td>2019</td>\n",
       "      <td>Petrol</td>\n",
       "      <td>Red</td>\n",
       "      <td>1</td>\n",
       "      <td>Individual</td>\n",
       "      <td>1197.0</td>\n",
       "      <td>3995.0</td>\n",
       "      <td>1745.0</td>\n",
       "      <td>37</td>\n",
       "      <td>Manual_FWD</td>\n",
       "      <td>82</td>\n",
       "      <td>113</td>\n",
       "    </tr>\n",
       "    <tr>\n",
       "      <th>4</th>\n",
       "      <td>Toyota</td>\n",
       "      <td>1950000</td>\n",
       "      <td>2018</td>\n",
       "      <td>Diesel</td>\n",
       "      <td>Grey</td>\n",
       "      <td>1</td>\n",
       "      <td>Individual</td>\n",
       "      <td>2393.0</td>\n",
       "      <td>4735.0</td>\n",
       "      <td>1830.0</td>\n",
       "      <td>55</td>\n",
       "      <td>Manual_RWD</td>\n",
       "      <td>148</td>\n",
       "      <td>343</td>\n",
       "    </tr>\n",
       "  </tbody>\n",
       "</table>\n",
       "</div>"
      ],
      "text/plain": [
       "            Make    Price  Year Fuel Type   Color  Owner Seller Type  Engine  \\\n",
       "0          Honda   505000  2017    Petrol    Grey      1   Corporate  1198.0   \n",
       "1  Maruti Suzuki   450000  2014    Diesel   White      2  Individual  1248.0   \n",
       "2        Hyundai   220000  2011    Petrol  Maroon      1  Individual  1197.0   \n",
       "3         Toyota   799000  2019    Petrol     Red      1  Individual  1197.0   \n",
       "4         Toyota  1950000  2018    Diesel    Grey      1  Individual  2393.0   \n",
       "\n",
       "   Length   Width  Fuel Tank Capacity Transmission_Drivetrain  Max Power(bhp)  \\\n",
       "0  3990.0  1680.0                  35              Manual_FWD              87   \n",
       "1  3995.0  1695.0                  42              Manual_FWD              74   \n",
       "2  3585.0  1595.0                  35              Manual_FWD              79   \n",
       "3  3995.0  1745.0                  37              Manual_FWD              82   \n",
       "4  4735.0  1830.0                  55              Manual_RWD             148   \n",
       "\n",
       "   Max Torque(Nm)  \n",
       "0             109  \n",
       "1             190  \n",
       "2             112  \n",
       "3             113  \n",
       "4             343  "
      ]
     },
     "execution_count": 121,
     "metadata": {},
     "output_type": "execute_result"
    }
   ],
   "source": [
    "df.head()"
   ]
  },
  {
   "cell_type": "code",
   "execution_count": 130,
   "id": "1de398e5-d2c3-48bc-a6de-e11af3b87fb8",
   "metadata": {},
   "outputs": [],
   "source": [
    "X = df.drop(columns = ['Price'])\n",
    "y = np.log(df['Price'])"
   ]
  },
  {
   "cell_type": "code",
   "execution_count": 131,
   "id": "962e0054-8068-45dd-9028-d93c86d2beba",
   "metadata": {},
   "outputs": [],
   "source": [
    "from sklearn.model_selection import train_test_split\n",
    "X_train,X_test,y_train,y_test= train_test_split(X,y, test_size =0.15 , random_state = 2)"
   ]
  },
  {
   "cell_type": "code",
   "execution_count": 132,
   "id": "a5218e2a-5dfe-4812-8837-07eabd47aabd",
   "metadata": {},
   "outputs": [
    {
     "data": {
      "text/html": [
       "<div>\n",
       "<style scoped>\n",
       "    .dataframe tbody tr th:only-of-type {\n",
       "        vertical-align: middle;\n",
       "    }\n",
       "\n",
       "    .dataframe tbody tr th {\n",
       "        vertical-align: top;\n",
       "    }\n",
       "\n",
       "    .dataframe thead th {\n",
       "        text-align: right;\n",
       "    }\n",
       "</style>\n",
       "<table border=\"1\" class=\"dataframe\">\n",
       "  <thead>\n",
       "    <tr style=\"text-align: right;\">\n",
       "      <th></th>\n",
       "      <th>Make</th>\n",
       "      <th>Year</th>\n",
       "      <th>Fuel Type</th>\n",
       "      <th>Color</th>\n",
       "      <th>Owner</th>\n",
       "      <th>Seller Type</th>\n",
       "      <th>Engine</th>\n",
       "      <th>Length</th>\n",
       "      <th>Width</th>\n",
       "      <th>Fuel Tank Capacity</th>\n",
       "      <th>Transmission_Drivetrain</th>\n",
       "      <th>Max Power(bhp)</th>\n",
       "      <th>Max Torque(Nm)</th>\n",
       "    </tr>\n",
       "  </thead>\n",
       "  <tbody>\n",
       "    <tr>\n",
       "      <th>470</th>\n",
       "      <td>Maruti Suzuki</td>\n",
       "      <td>2007</td>\n",
       "      <td>Petrol</td>\n",
       "      <td>Black</td>\n",
       "      <td>3</td>\n",
       "      <td>Individual</td>\n",
       "      <td>1995.0</td>\n",
       "      <td>4470.0</td>\n",
       "      <td>1810.0</td>\n",
       "      <td>66</td>\n",
       "      <td>Automatic_AWD</td>\n",
       "      <td>120</td>\n",
       "      <td>170</td>\n",
       "    </tr>\n",
       "    <tr>\n",
       "      <th>695</th>\n",
       "      <td>Chevrolet</td>\n",
       "      <td>2014</td>\n",
       "      <td>Diesel</td>\n",
       "      <td>White</td>\n",
       "      <td>2</td>\n",
       "      <td>Individual</td>\n",
       "      <td>1998.0</td>\n",
       "      <td>4597.0</td>\n",
       "      <td>1788.0</td>\n",
       "      <td>60</td>\n",
       "      <td>Automatic_FWD</td>\n",
       "      <td>164</td>\n",
       "      <td>380</td>\n",
       "    </tr>\n",
       "    <tr>\n",
       "      <th>1421</th>\n",
       "      <td>Hyundai</td>\n",
       "      <td>2018</td>\n",
       "      <td>Diesel</td>\n",
       "      <td>White</td>\n",
       "      <td>1</td>\n",
       "      <td>Individual</td>\n",
       "      <td>1396.0</td>\n",
       "      <td>4270.0</td>\n",
       "      <td>1780.0</td>\n",
       "      <td>60</td>\n",
       "      <td>Manual_FWD</td>\n",
       "      <td>89</td>\n",
       "      <td>224</td>\n",
       "    </tr>\n",
       "    <tr>\n",
       "      <th>240</th>\n",
       "      <td>Maruti Suzuki</td>\n",
       "      <td>2019</td>\n",
       "      <td>CNG</td>\n",
       "      <td>White</td>\n",
       "      <td>1</td>\n",
       "      <td>Individual</td>\n",
       "      <td>998.0</td>\n",
       "      <td>3655.0</td>\n",
       "      <td>1620.0</td>\n",
       "      <td>60</td>\n",
       "      <td>Manual_FWD</td>\n",
       "      <td>58</td>\n",
       "      <td>78</td>\n",
       "    </tr>\n",
       "    <tr>\n",
       "      <th>2</th>\n",
       "      <td>Hyundai</td>\n",
       "      <td>2011</td>\n",
       "      <td>Petrol</td>\n",
       "      <td>Maroon</td>\n",
       "      <td>1</td>\n",
       "      <td>Individual</td>\n",
       "      <td>1197.0</td>\n",
       "      <td>3585.0</td>\n",
       "      <td>1595.0</td>\n",
       "      <td>35</td>\n",
       "      <td>Manual_FWD</td>\n",
       "      <td>79</td>\n",
       "      <td>112</td>\n",
       "    </tr>\n",
       "    <tr>\n",
       "      <th>...</th>\n",
       "      <td>...</td>\n",
       "      <td>...</td>\n",
       "      <td>...</td>\n",
       "      <td>...</td>\n",
       "      <td>...</td>\n",
       "      <td>...</td>\n",
       "      <td>...</td>\n",
       "      <td>...</td>\n",
       "      <td>...</td>\n",
       "      <td>...</td>\n",
       "      <td>...</td>\n",
       "      <td>...</td>\n",
       "      <td>...</td>\n",
       "    </tr>\n",
       "    <tr>\n",
       "      <th>1071</th>\n",
       "      <td>Mercedes-Benz</td>\n",
       "      <td>2014</td>\n",
       "      <td>Diesel</td>\n",
       "      <td>White</td>\n",
       "      <td>2</td>\n",
       "      <td>Individual</td>\n",
       "      <td>2143.0</td>\n",
       "      <td>4804.0</td>\n",
       "      <td>2141.0</td>\n",
       "      <td>70</td>\n",
       "      <td>Automatic_AWD</td>\n",
       "      <td>203</td>\n",
       "      <td>500</td>\n",
       "    </tr>\n",
       "    <tr>\n",
       "      <th>433</th>\n",
       "      <td>Mercedes-Benz</td>\n",
       "      <td>2011</td>\n",
       "      <td>Petrol</td>\n",
       "      <td>White</td>\n",
       "      <td>2</td>\n",
       "      <td>Individual</td>\n",
       "      <td>2497.0</td>\n",
       "      <td>4868.0</td>\n",
       "      <td>1854.0</td>\n",
       "      <td>80</td>\n",
       "      <td>Automatic_RWD</td>\n",
       "      <td>204</td>\n",
       "      <td>245</td>\n",
       "    </tr>\n",
       "    <tr>\n",
       "      <th>674</th>\n",
       "      <td>BMW</td>\n",
       "      <td>2013</td>\n",
       "      <td>Diesel</td>\n",
       "      <td>Red</td>\n",
       "      <td>2</td>\n",
       "      <td>Individual</td>\n",
       "      <td>1995.0</td>\n",
       "      <td>4633.0</td>\n",
       "      <td>1811.0</td>\n",
       "      <td>57</td>\n",
       "      <td>Automatic_RWD</td>\n",
       "      <td>188</td>\n",
       "      <td>400</td>\n",
       "    </tr>\n",
       "    <tr>\n",
       "      <th>1099</th>\n",
       "      <td>Renault</td>\n",
       "      <td>2015</td>\n",
       "      <td>Diesel</td>\n",
       "      <td>Black</td>\n",
       "      <td>1</td>\n",
       "      <td>Individual</td>\n",
       "      <td>1461.0</td>\n",
       "      <td>4315.0</td>\n",
       "      <td>1822.0</td>\n",
       "      <td>50</td>\n",
       "      <td>Manual_FWD</td>\n",
       "      <td>84</td>\n",
       "      <td>200</td>\n",
       "    </tr>\n",
       "    <tr>\n",
       "      <th>1608</th>\n",
       "      <td>Honda</td>\n",
       "      <td>2011</td>\n",
       "      <td>Petrol</td>\n",
       "      <td>Gold</td>\n",
       "      <td>1</td>\n",
       "      <td>Individual</td>\n",
       "      <td>2354.0</td>\n",
       "      <td>4950.0</td>\n",
       "      <td>1845.0</td>\n",
       "      <td>70</td>\n",
       "      <td>Automatic_FWD</td>\n",
       "      <td>178</td>\n",
       "      <td>222</td>\n",
       "    </tr>\n",
       "  </tbody>\n",
       "</table>\n",
       "<p>1750 rows × 13 columns</p>\n",
       "</div>"
      ],
      "text/plain": [
       "               Make  Year Fuel Type   Color  Owner Seller Type  Engine  \\\n",
       "470   Maruti Suzuki  2007    Petrol   Black      3  Individual  1995.0   \n",
       "695       Chevrolet  2014    Diesel   White      2  Individual  1998.0   \n",
       "1421        Hyundai  2018    Diesel   White      1  Individual  1396.0   \n",
       "240   Maruti Suzuki  2019       CNG   White      1  Individual   998.0   \n",
       "2           Hyundai  2011    Petrol  Maroon      1  Individual  1197.0   \n",
       "...             ...   ...       ...     ...    ...         ...     ...   \n",
       "1071  Mercedes-Benz  2014    Diesel   White      2  Individual  2143.0   \n",
       "433   Mercedes-Benz  2011    Petrol   White      2  Individual  2497.0   \n",
       "674             BMW  2013    Diesel     Red      2  Individual  1995.0   \n",
       "1099        Renault  2015    Diesel   Black      1  Individual  1461.0   \n",
       "1608          Honda  2011    Petrol    Gold      1  Individual  2354.0   \n",
       "\n",
       "      Length   Width  Fuel Tank Capacity Transmission_Drivetrain  \\\n",
       "470   4470.0  1810.0                  66           Automatic_AWD   \n",
       "695   4597.0  1788.0                  60           Automatic_FWD   \n",
       "1421  4270.0  1780.0                  60              Manual_FWD   \n",
       "240   3655.0  1620.0                  60              Manual_FWD   \n",
       "2     3585.0  1595.0                  35              Manual_FWD   \n",
       "...      ...     ...                 ...                     ...   \n",
       "1071  4804.0  2141.0                  70           Automatic_AWD   \n",
       "433   4868.0  1854.0                  80           Automatic_RWD   \n",
       "674   4633.0  1811.0                  57           Automatic_RWD   \n",
       "1099  4315.0  1822.0                  50              Manual_FWD   \n",
       "1608  4950.0  1845.0                  70           Automatic_FWD   \n",
       "\n",
       "      Max Power(bhp)  Max Torque(Nm)  \n",
       "470              120             170  \n",
       "695              164             380  \n",
       "1421              89             224  \n",
       "240               58              78  \n",
       "2                 79             112  \n",
       "...              ...             ...  \n",
       "1071             203             500  \n",
       "433              204             245  \n",
       "674              188             400  \n",
       "1099              84             200  \n",
       "1608             178             222  \n",
       "\n",
       "[1750 rows x 13 columns]"
      ]
     },
     "execution_count": 132,
     "metadata": {},
     "output_type": "execute_result"
    }
   ],
   "source": [
    "X_train"
   ]
  },
  {
   "cell_type": "code",
   "execution_count": 133,
   "id": "4a2177dc-993a-4c27-bc86-c53b648647cf",
   "metadata": {},
   "outputs": [
    {
     "data": {
      "text/html": [
       "<div>\n",
       "<style scoped>\n",
       "    .dataframe tbody tr th:only-of-type {\n",
       "        vertical-align: middle;\n",
       "    }\n",
       "\n",
       "    .dataframe tbody tr th {\n",
       "        vertical-align: top;\n",
       "    }\n",
       "\n",
       "    .dataframe thead th {\n",
       "        text-align: right;\n",
       "    }\n",
       "</style>\n",
       "<table border=\"1\" class=\"dataframe\">\n",
       "  <thead>\n",
       "    <tr style=\"text-align: right;\">\n",
       "      <th></th>\n",
       "      <th>Make</th>\n",
       "      <th>Year</th>\n",
       "      <th>Fuel Type</th>\n",
       "      <th>Color</th>\n",
       "      <th>Owner</th>\n",
       "      <th>Seller Type</th>\n",
       "      <th>Engine</th>\n",
       "      <th>Length</th>\n",
       "      <th>Width</th>\n",
       "      <th>Fuel Tank Capacity</th>\n",
       "      <th>Transmission_Drivetrain</th>\n",
       "      <th>Max Power(bhp)</th>\n",
       "      <th>Max Torque(Nm)</th>\n",
       "    </tr>\n",
       "  </thead>\n",
       "  <tbody>\n",
       "    <tr>\n",
       "      <th>677</th>\n",
       "      <td>Land Rover</td>\n",
       "      <td>2016</td>\n",
       "      <td>Diesel</td>\n",
       "      <td>Blue</td>\n",
       "      <td>1</td>\n",
       "      <td>Individual</td>\n",
       "      <td>2179.0</td>\n",
       "      <td>4465.0</td>\n",
       "      <td>1900.0</td>\n",
       "      <td>57</td>\n",
       "      <td>Automatic_AWD</td>\n",
       "      <td>188</td>\n",
       "      <td>420</td>\n",
       "    </tr>\n",
       "    <tr>\n",
       "      <th>953</th>\n",
       "      <td>Hyundai</td>\n",
       "      <td>2021</td>\n",
       "      <td>Petrol</td>\n",
       "      <td>Silver</td>\n",
       "      <td>1</td>\n",
       "      <td>Individual</td>\n",
       "      <td>1197.0</td>\n",
       "      <td>3765.0</td>\n",
       "      <td>1660.0</td>\n",
       "      <td>43</td>\n",
       "      <td>Manual_FWD</td>\n",
       "      <td>81</td>\n",
       "      <td>114</td>\n",
       "    </tr>\n",
       "    <tr>\n",
       "      <th>484</th>\n",
       "      <td>Volkswagen</td>\n",
       "      <td>2020</td>\n",
       "      <td>Diesel</td>\n",
       "      <td>White</td>\n",
       "      <td>1</td>\n",
       "      <td>Individual</td>\n",
       "      <td>1968.0</td>\n",
       "      <td>4486.0</td>\n",
       "      <td>1839.0</td>\n",
       "      <td>71</td>\n",
       "      <td>Automatic_AWD</td>\n",
       "      <td>141</td>\n",
       "      <td>340</td>\n",
       "    </tr>\n",
       "    <tr>\n",
       "      <th>278</th>\n",
       "      <td>Hyundai</td>\n",
       "      <td>2017</td>\n",
       "      <td>Petrol</td>\n",
       "      <td>Red</td>\n",
       "      <td>2</td>\n",
       "      <td>Individual</td>\n",
       "      <td>1591.0</td>\n",
       "      <td>4270.0</td>\n",
       "      <td>1780.0</td>\n",
       "      <td>60</td>\n",
       "      <td>Automatic_FWD</td>\n",
       "      <td>122</td>\n",
       "      <td>154</td>\n",
       "    </tr>\n",
       "    <tr>\n",
       "      <th>1852</th>\n",
       "      <td>Mahindra</td>\n",
       "      <td>2015</td>\n",
       "      <td>Diesel</td>\n",
       "      <td>White</td>\n",
       "      <td>1</td>\n",
       "      <td>Individual</td>\n",
       "      <td>1493.0</td>\n",
       "      <td>3995.0</td>\n",
       "      <td>1835.0</td>\n",
       "      <td>60</td>\n",
       "      <td>Automatic_RWD</td>\n",
       "      <td>84</td>\n",
       "      <td>230</td>\n",
       "    </tr>\n",
       "    <tr>\n",
       "      <th>...</th>\n",
       "      <td>...</td>\n",
       "      <td>...</td>\n",
       "      <td>...</td>\n",
       "      <td>...</td>\n",
       "      <td>...</td>\n",
       "      <td>...</td>\n",
       "      <td>...</td>\n",
       "      <td>...</td>\n",
       "      <td>...</td>\n",
       "      <td>...</td>\n",
       "      <td>...</td>\n",
       "      <td>...</td>\n",
       "      <td>...</td>\n",
       "    </tr>\n",
       "    <tr>\n",
       "      <th>1440</th>\n",
       "      <td>Audi</td>\n",
       "      <td>2010</td>\n",
       "      <td>Petrol</td>\n",
       "      <td>Silver</td>\n",
       "      <td>2</td>\n",
       "      <td>Individual</td>\n",
       "      <td>1798.0</td>\n",
       "      <td>4701.0</td>\n",
       "      <td>1826.0</td>\n",
       "      <td>63</td>\n",
       "      <td>Automatic_FWD</td>\n",
       "      <td>170</td>\n",
       "      <td>320</td>\n",
       "    </tr>\n",
       "    <tr>\n",
       "      <th>1468</th>\n",
       "      <td>Honda</td>\n",
       "      <td>2010</td>\n",
       "      <td>Petrol</td>\n",
       "      <td>Gold</td>\n",
       "      <td>1</td>\n",
       "      <td>Individual</td>\n",
       "      <td>1497.0</td>\n",
       "      <td>4420.0</td>\n",
       "      <td>1695.0</td>\n",
       "      <td>42</td>\n",
       "      <td>Automatic_FWD</td>\n",
       "      <td>118</td>\n",
       "      <td>146</td>\n",
       "    </tr>\n",
       "    <tr>\n",
       "      <th>3</th>\n",
       "      <td>Toyota</td>\n",
       "      <td>2019</td>\n",
       "      <td>Petrol</td>\n",
       "      <td>Red</td>\n",
       "      <td>1</td>\n",
       "      <td>Individual</td>\n",
       "      <td>1197.0</td>\n",
       "      <td>3995.0</td>\n",
       "      <td>1745.0</td>\n",
       "      <td>37</td>\n",
       "      <td>Manual_FWD</td>\n",
       "      <td>82</td>\n",
       "      <td>113</td>\n",
       "    </tr>\n",
       "    <tr>\n",
       "      <th>1667</th>\n",
       "      <td>MG</td>\n",
       "      <td>2019</td>\n",
       "      <td>Diesel</td>\n",
       "      <td>Red</td>\n",
       "      <td>1</td>\n",
       "      <td>Individual</td>\n",
       "      <td>1956.0</td>\n",
       "      <td>4655.0</td>\n",
       "      <td>1835.0</td>\n",
       "      <td>60</td>\n",
       "      <td>Manual_FWD</td>\n",
       "      <td>169</td>\n",
       "      <td>350</td>\n",
       "    </tr>\n",
       "    <tr>\n",
       "      <th>1730</th>\n",
       "      <td>Toyota</td>\n",
       "      <td>2019</td>\n",
       "      <td>Diesel</td>\n",
       "      <td>White</td>\n",
       "      <td>1</td>\n",
       "      <td>Individual</td>\n",
       "      <td>2755.0</td>\n",
       "      <td>4735.0</td>\n",
       "      <td>1830.0</td>\n",
       "      <td>55</td>\n",
       "      <td>Automatic_RWD</td>\n",
       "      <td>172</td>\n",
       "      <td>360</td>\n",
       "    </tr>\n",
       "  </tbody>\n",
       "</table>\n",
       "<p>309 rows × 13 columns</p>\n",
       "</div>"
      ],
      "text/plain": [
       "            Make  Year Fuel Type   Color  Owner Seller Type  Engine  Length  \\\n",
       "677   Land Rover  2016    Diesel    Blue      1  Individual  2179.0  4465.0   \n",
       "953      Hyundai  2021    Petrol  Silver      1  Individual  1197.0  3765.0   \n",
       "484   Volkswagen  2020    Diesel   White      1  Individual  1968.0  4486.0   \n",
       "278      Hyundai  2017    Petrol     Red      2  Individual  1591.0  4270.0   \n",
       "1852    Mahindra  2015    Diesel   White      1  Individual  1493.0  3995.0   \n",
       "...          ...   ...       ...     ...    ...         ...     ...     ...   \n",
       "1440        Audi  2010    Petrol  Silver      2  Individual  1798.0  4701.0   \n",
       "1468       Honda  2010    Petrol    Gold      1  Individual  1497.0  4420.0   \n",
       "3         Toyota  2019    Petrol     Red      1  Individual  1197.0  3995.0   \n",
       "1667          MG  2019    Diesel     Red      1  Individual  1956.0  4655.0   \n",
       "1730      Toyota  2019    Diesel   White      1  Individual  2755.0  4735.0   \n",
       "\n",
       "       Width  Fuel Tank Capacity Transmission_Drivetrain  Max Power(bhp)  \\\n",
       "677   1900.0                  57           Automatic_AWD             188   \n",
       "953   1660.0                  43              Manual_FWD              81   \n",
       "484   1839.0                  71           Automatic_AWD             141   \n",
       "278   1780.0                  60           Automatic_FWD             122   \n",
       "1852  1835.0                  60           Automatic_RWD              84   \n",
       "...      ...                 ...                     ...             ...   \n",
       "1440  1826.0                  63           Automatic_FWD             170   \n",
       "1468  1695.0                  42           Automatic_FWD             118   \n",
       "3     1745.0                  37              Manual_FWD              82   \n",
       "1667  1835.0                  60              Manual_FWD             169   \n",
       "1730  1830.0                  55           Automatic_RWD             172   \n",
       "\n",
       "      Max Torque(Nm)  \n",
       "677              420  \n",
       "953              114  \n",
       "484              340  \n",
       "278              154  \n",
       "1852             230  \n",
       "...              ...  \n",
       "1440             320  \n",
       "1468             146  \n",
       "3                113  \n",
       "1667             350  \n",
       "1730             360  \n",
       "\n",
       "[309 rows x 13 columns]"
      ]
     },
     "execution_count": 133,
     "metadata": {},
     "output_type": "execute_result"
    }
   ],
   "source": [
    "X_test"
   ]
  },
  {
   "cell_type": "code",
   "execution_count": 134,
   "id": "933bc9cd-0d5b-4dae-bcd1-74af1d965776",
   "metadata": {},
   "outputs": [
    {
     "data": {
      "text/plain": [
       "470     12.751300\n",
       "695     13.071070\n",
       "1421    13.764217\n",
       "240     13.161584\n",
       "2       12.301383\n",
       "          ...    \n",
       "1071    14.626441\n",
       "433     13.795308\n",
       "674     14.253765\n",
       "1099    12.959844\n",
       "1608    13.071070\n",
       "Name: Price, Length: 1750, dtype: float64"
      ]
     },
     "execution_count": 134,
     "metadata": {},
     "output_type": "execute_result"
    }
   ],
   "source": [
    "y_train"
   ]
  },
  {
   "cell_type": "code",
   "execution_count": 135,
   "id": "1ad7f4c8-4c82-42a4-9e61-2747d3d7a4d2",
   "metadata": {},
   "outputs": [
    {
     "data": {
      "text/plain": [
       "677     15.053885\n",
       "953     13.547631\n",
       "484     14.910784\n",
       "278     13.906265\n",
       "1852    13.384728\n",
       "          ...    \n",
       "1440    13.815511\n",
       "1468    12.691580\n",
       "3       13.591116\n",
       "1667    14.360738\n",
       "1730    14.602148\n",
       "Name: Price, Length: 309, dtype: float64"
      ]
     },
     "execution_count": 135,
     "metadata": {},
     "output_type": "execute_result"
    }
   ],
   "source": [
    "y_test"
   ]
  },
  {
   "cell_type": "code",
   "execution_count": 136,
   "id": "d5a6c50a-c47c-4e35-af64-bac170a5c254",
   "metadata": {},
   "outputs": [],
   "source": [
    "from sklearn.compose import ColumnTransformer\n",
    "from sklearn.pipeline import Pipeline\n",
    "from sklearn.preprocessing import OneHotEncoder\n",
    "from sklearn.metrics import r2_score,mean_absolute_error\n",
    "from sklearn.metrics import mean_squared_error\n",
    "from sklearn.linear_model import LinearRegression,Ridge,Lasso"
   ]
  },
  {
   "cell_type": "markdown",
   "id": "bef5f598-f641-4df3-85f3-55ebb8a92ecc",
   "metadata": {},
   "source": [
    "# Linear Regression"
   ]
  },
  {
   "cell_type": "code",
   "execution_count": 137,
   "id": "a93e7ef2-b9d0-4c28-9c8a-f89d9527e623",
   "metadata": {},
   "outputs": [
    {
     "name": "stdout",
     "output_type": "stream",
     "text": [
      "R2 score 0.9400514233075137\n",
      "MAE 0.16402467841900042\n"
     ]
    }
   ],
   "source": [
    "Col_trans = ColumnTransformer(transformers=[\n",
    "    ('col_tnf',OneHotEncoder(handle_unknown='ignore', sparse_output=False,drop='first'),[0,2,3,5,10])\n",
    "],remainder='passthrough')\n",
    "\n",
    "LR= LinearRegression()\n",
    "\n",
    "pipe = Pipeline([\n",
    "    ('Column_transformed',Col_trans),\n",
    "    ('LinearRegression',LR)\n",
    "])\n",
    "\n",
    "pipe.fit(X_train,y_train)\n",
    "\n",
    "y_pred = pipe.predict(X_test)\n",
    "\n",
    "print('R2 score',r2_score(y_test,y_pred))\n",
    "print('MAE',mean_absolute_error(y_test,y_pred))"
   ]
  },
  {
   "cell_type": "code",
   "execution_count": 138,
   "id": "0d6c37c0-d6ee-44e4-9816-61a6af26f6dd",
   "metadata": {},
   "outputs": [
    {
     "data": {
      "text/html": [
       "<div>\n",
       "<style scoped>\n",
       "    .dataframe tbody tr th:only-of-type {\n",
       "        vertical-align: middle;\n",
       "    }\n",
       "\n",
       "    .dataframe tbody tr th {\n",
       "        vertical-align: top;\n",
       "    }\n",
       "\n",
       "    .dataframe thead th {\n",
       "        text-align: right;\n",
       "    }\n",
       "</style>\n",
       "<table border=\"1\" class=\"dataframe\">\n",
       "  <thead>\n",
       "    <tr style=\"text-align: right;\">\n",
       "      <th></th>\n",
       "      <th>Actual</th>\n",
       "      <th>Predicted</th>\n",
       "    </tr>\n",
       "  </thead>\n",
       "  <tbody>\n",
       "    <tr>\n",
       "      <th>677</th>\n",
       "      <td>15.053885</td>\n",
       "      <td>15.082537</td>\n",
       "    </tr>\n",
       "    <tr>\n",
       "      <th>953</th>\n",
       "      <td>13.547631</td>\n",
       "      <td>13.556764</td>\n",
       "    </tr>\n",
       "    <tr>\n",
       "      <th>484</th>\n",
       "      <td>14.910784</td>\n",
       "      <td>14.453640</td>\n",
       "    </tr>\n",
       "    <tr>\n",
       "      <th>278</th>\n",
       "      <td>13.906265</td>\n",
       "      <td>13.787858</td>\n",
       "    </tr>\n",
       "    <tr>\n",
       "      <th>1852</th>\n",
       "      <td>13.384728</td>\n",
       "      <td>13.364092</td>\n",
       "    </tr>\n",
       "    <tr>\n",
       "      <th>355</th>\n",
       "      <td>15.009433</td>\n",
       "      <td>15.062076</td>\n",
       "    </tr>\n",
       "    <tr>\n",
       "      <th>1023</th>\n",
       "      <td>13.384728</td>\n",
       "      <td>13.622753</td>\n",
       "    </tr>\n",
       "    <tr>\n",
       "      <th>123</th>\n",
       "      <td>13.091902</td>\n",
       "      <td>12.715979</td>\n",
       "    </tr>\n",
       "    <tr>\n",
       "      <th>1967</th>\n",
       "      <td>14.444119</td>\n",
       "      <td>14.413923</td>\n",
       "    </tr>\n",
       "    <tr>\n",
       "      <th>1492</th>\n",
       "      <td>12.834681</td>\n",
       "      <td>12.827408</td>\n",
       "    </tr>\n",
       "  </tbody>\n",
       "</table>\n",
       "</div>"
      ],
      "text/plain": [
       "         Actual  Predicted\n",
       "677   15.053885  15.082537\n",
       "953   13.547631  13.556764\n",
       "484   14.910784  14.453640\n",
       "278   13.906265  13.787858\n",
       "1852  13.384728  13.364092\n",
       "355   15.009433  15.062076\n",
       "1023  13.384728  13.622753\n",
       "123   13.091902  12.715979\n",
       "1967  14.444119  14.413923\n",
       "1492  12.834681  12.827408"
      ]
     },
     "execution_count": 138,
     "metadata": {},
     "output_type": "execute_result"
    }
   ],
   "source": [
    "comparison = pd.DataFrame({'Actual': y_test, 'Predicted': y_pred})\n",
    "\n",
    "# Display first 10 rows\n",
    "comparison.head(10)"
   ]
  },
  {
   "cell_type": "code",
   "execution_count": 139,
   "id": "ddf9515e-f89f-4cf2-ac75-01462797644f",
   "metadata": {},
   "outputs": [],
   "source": [
    "y_test_og = np.exp(y_test)\n",
    "y_pred_og = np.exp(y_pred)"
   ]
  },
  {
   "cell_type": "code",
   "execution_count": 140,
   "id": "15d881b2-ada4-43d0-9a79-0dc62369c36e",
   "metadata": {},
   "outputs": [],
   "source": [
    "comparison = pd.DataFrame({'Actual': y_test_og, 'Predicted': y_pred_og})"
   ]
  },
  {
   "cell_type": "code",
   "execution_count": 141,
   "id": "96a1f68f-4841-4a12-82ed-cce347767a5f",
   "metadata": {},
   "outputs": [
    {
     "data": {
      "text/html": [
       "<div>\n",
       "<style scoped>\n",
       "    .dataframe tbody tr th:only-of-type {\n",
       "        vertical-align: middle;\n",
       "    }\n",
       "\n",
       "    .dataframe tbody tr th {\n",
       "        vertical-align: top;\n",
       "    }\n",
       "\n",
       "    .dataframe thead th {\n",
       "        text-align: right;\n",
       "    }\n",
       "</style>\n",
       "<table border=\"1\" class=\"dataframe\">\n",
       "  <thead>\n",
       "    <tr style=\"text-align: right;\">\n",
       "      <th></th>\n",
       "      <th>Actual</th>\n",
       "      <th>Predicted</th>\n",
       "    </tr>\n",
       "  </thead>\n",
       "  <tbody>\n",
       "    <tr>\n",
       "      <th>677</th>\n",
       "      <td>3450000.0</td>\n",
       "      <td>3.550279e+06</td>\n",
       "    </tr>\n",
       "    <tr>\n",
       "      <th>953</th>\n",
       "      <td>765000.0</td>\n",
       "      <td>7.720183e+05</td>\n",
       "    </tr>\n",
       "    <tr>\n",
       "      <th>484</th>\n",
       "      <td>2990000.0</td>\n",
       "      <td>1.892937e+06</td>\n",
       "    </tr>\n",
       "    <tr>\n",
       "      <th>278</th>\n",
       "      <td>1095000.0</td>\n",
       "      <td>9.727267e+05</td>\n",
       "    </tr>\n",
       "    <tr>\n",
       "      <th>1852</th>\n",
       "      <td>650000.0</td>\n",
       "      <td>6.367242e+05</td>\n",
       "    </tr>\n",
       "    <tr>\n",
       "      <th>355</th>\n",
       "      <td>3300000.0</td>\n",
       "      <td>3.478377e+06</td>\n",
       "    </tr>\n",
       "    <tr>\n",
       "      <th>1023</th>\n",
       "      <td>650000.0</td>\n",
       "      <td>8.246818e+05</td>\n",
       "    </tr>\n",
       "    <tr>\n",
       "      <th>123</th>\n",
       "      <td>484999.0</td>\n",
       "      <td>3.330271e+05</td>\n",
       "    </tr>\n",
       "    <tr>\n",
       "      <th>1967</th>\n",
       "      <td>1875000.0</td>\n",
       "      <td>1.819228e+06</td>\n",
       "    </tr>\n",
       "    <tr>\n",
       "      <th>1492</th>\n",
       "      <td>375000.0</td>\n",
       "      <td>3.722823e+05</td>\n",
       "    </tr>\n",
       "  </tbody>\n",
       "</table>\n",
       "</div>"
      ],
      "text/plain": [
       "         Actual     Predicted\n",
       "677   3450000.0  3.550279e+06\n",
       "953    765000.0  7.720183e+05\n",
       "484   2990000.0  1.892937e+06\n",
       "278   1095000.0  9.727267e+05\n",
       "1852   650000.0  6.367242e+05\n",
       "355   3300000.0  3.478377e+06\n",
       "1023   650000.0  8.246818e+05\n",
       "123    484999.0  3.330271e+05\n",
       "1967  1875000.0  1.819228e+06\n",
       "1492   375000.0  3.722823e+05"
      ]
     },
     "execution_count": 141,
     "metadata": {},
     "output_type": "execute_result"
    }
   ],
   "source": [
    "comparison.head(10)"
   ]
  },
  {
   "cell_type": "markdown",
   "id": "df43ff94-2ab7-457d-8dc1-562971717561",
   "metadata": {},
   "source": [
    "# Ridge Regression"
   ]
  },
  {
   "cell_type": "code",
   "execution_count": 142,
   "id": "f781ab4e-a507-4dd5-bf74-2e53136d7b82",
   "metadata": {},
   "outputs": [
    {
     "name": "stdout",
     "output_type": "stream",
     "text": [
      "R2 score 0.9265525589379023\n",
      "MAE 0.18178207849882508\n"
     ]
    }
   ],
   "source": [
    "Col_trans = ColumnTransformer(transformers=[\n",
    "    ('col_tnf',OneHotEncoder(handle_unknown='ignore', sparse_output=False,drop='first'),[0,2,3,5,10])\n",
    "],remainder='passthrough')\n",
    "\n",
    "Ridge = Ridge(alpha=10)\n",
    "\n",
    "pipe = Pipeline([\n",
    "    ('Column_transformed',Col_trans),\n",
    "    ('Ridge_regression',Ridge)\n",
    "])\n",
    "\n",
    "pipe.fit(X_train,y_train)\n",
    "\n",
    "y_pred = pipe.predict(X_test)\n",
    "\n",
    "print('R2 score',r2_score(y_test,y_pred))\n",
    "print('MAE',mean_absolute_error(y_test,y_pred))"
   ]
  },
  {
   "cell_type": "markdown",
   "id": "12a95df6-7d45-432b-b12f-34109def49da",
   "metadata": {},
   "source": [
    "# Random Forest Regression"
   ]
  },
  {
   "cell_type": "code",
   "execution_count": 143,
   "id": "3670d4f0-bff1-4c67-83f9-b3ba25a7ceb2",
   "metadata": {},
   "outputs": [],
   "source": [
    "from sklearn.ensemble import RandomForestRegressor"
   ]
  },
  {
   "cell_type": "code",
   "execution_count": 144,
   "id": "1ecba4fa-e001-4981-936c-fc68a7217daa",
   "metadata": {},
   "outputs": [
    {
     "name": "stdout",
     "output_type": "stream",
     "text": [
      "R2 score 0.9287715835747284\n",
      "MAE 0.1659044763062471\n"
     ]
    }
   ],
   "source": [
    "Col_trans = ColumnTransformer(transformers=[\n",
    "    ('col_tnf',OneHotEncoder(handle_unknown='ignore', sparse_output=False,drop='first'),[0,2,3,5,10])\n",
    "],remainder='passthrough')\n",
    "\n",
    "RandomForest = RandomForestRegressor(n_estimators=100,\n",
    "                              random_state=3,\n",
    "                              max_samples=0.5,\n",
    "                              max_features=0.75,\n",
    "                              max_depth=15)\n",
    "\n",
    "pipe = Pipeline([\n",
    "    ('Column_transformed',Col_trans),\n",
    "    ('RF_Regression',RandomForest)\n",
    "])\n",
    "\n",
    "pipe.fit(X_train,y_train)\n",
    "\n",
    "y_pred = pipe.predict(X_test)\n",
    "\n",
    "print('R2 score',r2_score(y_test,y_pred))\n",
    "print('MAE',mean_absolute_error(y_test,y_pred))"
   ]
  },
  {
   "cell_type": "markdown",
   "id": "e66da79b-98bc-4a78-bbcf-d12ec92a34d0",
   "metadata": {},
   "source": [
    "# Decision Tree Regressor"
   ]
  },
  {
   "cell_type": "code",
   "execution_count": 145,
   "id": "360d7ae0-86ea-4c26-bc73-f0b16e55eada",
   "metadata": {},
   "outputs": [],
   "source": [
    "from sklearn.tree import DecisionTreeRegressor"
   ]
  },
  {
   "cell_type": "code",
   "execution_count": 146,
   "id": "493dcf70-7be4-46a2-b53d-44e1bb6102b0",
   "metadata": {},
   "outputs": [
    {
     "name": "stdout",
     "output_type": "stream",
     "text": [
      "R2 score 0.8868829702673339\n",
      "MAE 0.2148996982625064\n"
     ]
    }
   ],
   "source": [
    "Col_trans = ColumnTransformer(transformers=[\n",
    "    ('col_tnf',OneHotEncoder(handle_unknown='ignore', sparse_output=False,drop='first'),[0,2,3,5,10])\n",
    "],remainder='passthrough')\n",
    "\n",
    "Decision = DecisionTreeRegressor(max_depth=8)\n",
    "\n",
    "pipe = Pipeline([\n",
    "    ('Column_transformed',Col_trans),\n",
    "    ('DecisionTree_Regression',Decision)\n",
    "])\n",
    "\n",
    "pipe.fit(X_train,y_train)\n",
    "\n",
    "y_pred = pipe.predict(X_test)\n",
    "\n",
    "print('R2 score',r2_score(y_test,y_pred))\n",
    "print('MAE',mean_absolute_error(y_test,y_pred))"
   ]
  },
  {
   "cell_type": "code",
   "execution_count": null,
   "id": "e51cba78-899a-4d44-8655-e2add2631ea5",
   "metadata": {},
   "outputs": [],
   "source": []
  }
 ],
 "metadata": {
  "kernelspec": {
   "display_name": "Python 3 (ipykernel)",
   "language": "python",
   "name": "python3"
  },
  "language_info": {
   "codemirror_mode": {
    "name": "ipython",
    "version": 3
   },
   "file_extension": ".py",
   "mimetype": "text/x-python",
   "name": "python",
   "nbconvert_exporter": "python",
   "pygments_lexer": "ipython3",
   "version": "3.12.7"
  }
 },
 "nbformat": 4,
 "nbformat_minor": 5
}
